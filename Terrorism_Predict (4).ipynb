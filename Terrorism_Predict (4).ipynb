{
  "nbformat": 4,
  "nbformat_minor": 2,
  "metadata": {
    "accelerator": "TPU",
    "colab": {
      "name": "Terrorism_Predict.ipynb",
      "provenance": [],
      "collapsed_sections": [],
      "machine_shape": "hm"
    },
    "interpreter": {
      "hash": "f589b74b5f9dfadb2b978c0f6d0c86213b22d6e1bb02d62665d77952f7aaa902"
    },
    "kernelspec": {
      "name": "python3",
      "display_name": "Python 3.9.2 64-bit ('base': conda)"
    },
    "language_info": {
      "codemirror_mode": {
        "name": "ipython",
        "version": 3
      },
      "file_extension": ".py",
      "mimetype": "text/x-python",
      "name": "python",
      "nbconvert_exporter": "python",
      "pygments_lexer": "ipython3",
      "version": "3.9.2"
    }
  },
  "cells": [
    {
      "cell_type": "markdown",
      "source": [
        "# Imports"
      ],
      "metadata": {
        "id": "F4Y5r5afyKqP"
      }
    },
    {
      "cell_type": "code",
      "execution_count": 1,
      "source": [
        "# ! pip install pandas-profiling\n",
        "! pip install geopandas\n",
        "# ! pip install https://github.com/pandas-profiling/pandas-profiling/archive/master.zip\n",
        "! pip install pandas\n",
        "# ! pip install pandas==0.25\n",
        "! pip install tensorflow_text\n",
        "# !wget http://nlp.stanford.edu/data/glove.6B.zip\n",
        "# !unzip -q glove.6B.zip"
      ],
      "outputs": [
        {
          "output_type": "stream",
          "name": "stdout",
          "text": [
            "\u001b[33mWARNING: Ignoring invalid distribution -umpy (/Users/scottsturtz/opt/anaconda3/lib/python3.9/site-packages)\u001b[0m\n",
            "\u001b[33mWARNING: Ignoring invalid distribution -ix (/Users/scottsturtz/opt/anaconda3/lib/python3.9/site-packages)\u001b[0m\n",
            "\u001b[33mWARNING: Ignoring invalid distribution - (/Users/scottsturtz/opt/anaconda3/lib/python3.9/site-packages)\u001b[0m\n",
            "\u001b[33mWARNING: Ignoring invalid distribution -umpy (/Users/scottsturtz/opt/anaconda3/lib/python3.9/site-packages)\u001b[0m\n",
            "\u001b[33mWARNING: Ignoring invalid distribution -ix (/Users/scottsturtz/opt/anaconda3/lib/python3.9/site-packages)\u001b[0m\n",
            "\u001b[33mWARNING: Ignoring invalid distribution - (/Users/scottsturtz/opt/anaconda3/lib/python3.9/site-packages)\u001b[0m\n",
            "Requirement already satisfied: geopandas in /Users/scottsturtz/opt/anaconda3/lib/python3.9/site-packages (0.9.0)\n",
            "Requirement already satisfied: pyproj>=2.2.0 in /Users/scottsturtz/opt/anaconda3/lib/python3.9/site-packages (from geopandas) (3.0.1)\n",
            "Requirement already satisfied: fiona>=1.8 in /Users/scottsturtz/opt/anaconda3/lib/python3.9/site-packages (from geopandas) (1.8.19)\n",
            "Requirement already satisfied: shapely>=1.6 in /Users/scottsturtz/opt/anaconda3/lib/python3.9/site-packages (from geopandas) (1.7.1)\n",
            "Requirement already satisfied: pandas>=0.24.0 in /Users/scottsturtz/opt/anaconda3/lib/python3.9/site-packages (from geopandas) (1.2.5)\n",
            "Requirement already satisfied: six>=1.7 in /Users/scottsturtz/opt/anaconda3/lib/python3.9/site-packages (from fiona>=1.8->geopandas) (1.15.0)\n",
            "Requirement already satisfied: munch in /Users/scottsturtz/opt/anaconda3/lib/python3.9/site-packages (from fiona>=1.8->geopandas) (2.5.0)\n",
            "Requirement already satisfied: attrs>=17 in /Users/scottsturtz/opt/anaconda3/lib/python3.9/site-packages (from fiona>=1.8->geopandas) (21.2.0)\n",
            "Requirement already satisfied: click-plugins>=1.0 in /Users/scottsturtz/opt/anaconda3/lib/python3.9/site-packages (from fiona>=1.8->geopandas) (1.1.1)\n",
            "Collecting click<8,>=4.0\n",
            "  Using cached click-7.1.2-py2.py3-none-any.whl (82 kB)\n",
            "Requirement already satisfied: cligj>=0.5 in /Users/scottsturtz/opt/anaconda3/lib/python3.9/site-packages (from fiona>=1.8->geopandas) (0.7.1)\n",
            "Requirement already satisfied: certifi in /Users/scottsturtz/opt/anaconda3/lib/python3.9/site-packages (from fiona>=1.8->geopandas) (2021.5.30)\n",
            "Requirement already satisfied: pytz>=2017.3 in /Users/scottsturtz/opt/anaconda3/lib/python3.9/site-packages (from pandas>=0.24.0->geopandas) (2021.1)\n",
            "Requirement already satisfied: python-dateutil>=2.7.3 in /Users/scottsturtz/opt/anaconda3/lib/python3.9/site-packages (from pandas>=0.24.0->geopandas) (2.8.1)\n",
            "Requirement already satisfied: numpy>=1.16.5 in /Users/scottsturtz/opt/anaconda3/lib/python3.9/site-packages (from pandas>=0.24.0->geopandas) (1.19.5)\n",
            "\u001b[33mWARNING: Ignoring invalid distribution -umpy (/Users/scottsturtz/opt/anaconda3/lib/python3.9/site-packages)\u001b[0m\n",
            "\u001b[33mWARNING: Ignoring invalid distribution -ix (/Users/scottsturtz/opt/anaconda3/lib/python3.9/site-packages)\u001b[0m\n",
            "\u001b[33mWARNING: Ignoring invalid distribution - (/Users/scottsturtz/opt/anaconda3/lib/python3.9/site-packages)\u001b[0m\n",
            "Installing collected packages: click\n",
            "  Attempting uninstall: click\n",
            "\u001b[33m    WARNING: Ignoring invalid distribution -umpy (/Users/scottsturtz/opt/anaconda3/lib/python3.9/site-packages)\u001b[0m\n",
            "\u001b[33m    WARNING: Ignoring invalid distribution -ix (/Users/scottsturtz/opt/anaconda3/lib/python3.9/site-packages)\u001b[0m\n",
            "\u001b[33m    WARNING: Ignoring invalid distribution - (/Users/scottsturtz/opt/anaconda3/lib/python3.9/site-packages)\u001b[0m\n",
            "    Found existing installation: click 8.0.1\n",
            "    Uninstalling click-8.0.1:\n",
            "      Successfully uninstalled click-8.0.1\n",
            "\u001b[33mWARNING: Ignoring invalid distribution -umpy (/Users/scottsturtz/opt/anaconda3/lib/python3.9/site-packages)\u001b[0m\n",
            "\u001b[33mWARNING: Ignoring invalid distribution -ix (/Users/scottsturtz/opt/anaconda3/lib/python3.9/site-packages)\u001b[0m\n",
            "\u001b[33mWARNING: Ignoring invalid distribution - (/Users/scottsturtz/opt/anaconda3/lib/python3.9/site-packages)\u001b[0m\n",
            "Successfully installed click-7.1.2\n",
            "\u001b[33mWARNING: Ignoring invalid distribution -umpy (/Users/scottsturtz/opt/anaconda3/lib/python3.9/site-packages)\u001b[0m\n",
            "\u001b[33mWARNING: Ignoring invalid distribution -ix (/Users/scottsturtz/opt/anaconda3/lib/python3.9/site-packages)\u001b[0m\n",
            "\u001b[33mWARNING: Ignoring invalid distribution - (/Users/scottsturtz/opt/anaconda3/lib/python3.9/site-packages)\u001b[0m\n",
            "\u001b[33mWARNING: Ignoring invalid distribution -umpy (/Users/scottsturtz/opt/anaconda3/lib/python3.9/site-packages)\u001b[0m\n",
            "\u001b[33mWARNING: Ignoring invalid distribution -ix (/Users/scottsturtz/opt/anaconda3/lib/python3.9/site-packages)\u001b[0m\n",
            "\u001b[33mWARNING: Ignoring invalid distribution - (/Users/scottsturtz/opt/anaconda3/lib/python3.9/site-packages)\u001b[0m\n",
            "\u001b[33mWARNING: Ignoring invalid distribution -umpy (/Users/scottsturtz/opt/anaconda3/lib/python3.9/site-packages)\u001b[0m\n",
            "\u001b[33mWARNING: Ignoring invalid distribution -ix (/Users/scottsturtz/opt/anaconda3/lib/python3.9/site-packages)\u001b[0m\n",
            "\u001b[33mWARNING: Ignoring invalid distribution - (/Users/scottsturtz/opt/anaconda3/lib/python3.9/site-packages)\u001b[0m\n",
            "\u001b[33mWARNING: Ignoring invalid distribution -umpy (/Users/scottsturtz/opt/anaconda3/lib/python3.9/site-packages)\u001b[0m\n",
            "\u001b[33mWARNING: Ignoring invalid distribution -ix (/Users/scottsturtz/opt/anaconda3/lib/python3.9/site-packages)\u001b[0m\n",
            "\u001b[33mWARNING: Ignoring invalid distribution - (/Users/scottsturtz/opt/anaconda3/lib/python3.9/site-packages)\u001b[0m\n",
            "\u001b[33mWARNING: Ignoring invalid distribution -umpy (/Users/scottsturtz/opt/anaconda3/lib/python3.9/site-packages)\u001b[0m\n",
            "\u001b[33mWARNING: Ignoring invalid distribution -ix (/Users/scottsturtz/opt/anaconda3/lib/python3.9/site-packages)\u001b[0m\n",
            "\u001b[33mWARNING: Ignoring invalid distribution - (/Users/scottsturtz/opt/anaconda3/lib/python3.9/site-packages)\u001b[0m\n",
            "Requirement already satisfied: pandas in /Users/scottsturtz/opt/anaconda3/lib/python3.9/site-packages (1.2.5)\n",
            "Requirement already satisfied: python-dateutil>=2.7.3 in /Users/scottsturtz/opt/anaconda3/lib/python3.9/site-packages (from pandas) (2.8.1)\n",
            "Requirement already satisfied: pytz>=2017.3 in /Users/scottsturtz/opt/anaconda3/lib/python3.9/site-packages (from pandas) (2021.1)\n",
            "Requirement already satisfied: numpy>=1.16.5 in /Users/scottsturtz/opt/anaconda3/lib/python3.9/site-packages (from pandas) (1.19.5)\n",
            "Requirement already satisfied: six>=1.5 in /Users/scottsturtz/opt/anaconda3/lib/python3.9/site-packages (from python-dateutil>=2.7.3->pandas) (1.15.0)\n",
            "\u001b[33mWARNING: Ignoring invalid distribution -umpy (/Users/scottsturtz/opt/anaconda3/lib/python3.9/site-packages)\u001b[0m\n",
            "\u001b[33mWARNING: Ignoring invalid distribution -ix (/Users/scottsturtz/opt/anaconda3/lib/python3.9/site-packages)\u001b[0m\n",
            "\u001b[33mWARNING: Ignoring invalid distribution - (/Users/scottsturtz/opt/anaconda3/lib/python3.9/site-packages)\u001b[0m\n",
            "\u001b[33mWARNING: Ignoring invalid distribution -umpy (/Users/scottsturtz/opt/anaconda3/lib/python3.9/site-packages)\u001b[0m\n",
            "\u001b[33mWARNING: Ignoring invalid distribution -ix (/Users/scottsturtz/opt/anaconda3/lib/python3.9/site-packages)\u001b[0m\n",
            "\u001b[33mWARNING: Ignoring invalid distribution - (/Users/scottsturtz/opt/anaconda3/lib/python3.9/site-packages)\u001b[0m\n",
            "\u001b[33mWARNING: Ignoring invalid distribution -umpy (/Users/scottsturtz/opt/anaconda3/lib/python3.9/site-packages)\u001b[0m\n",
            "\u001b[33mWARNING: Ignoring invalid distribution -ix (/Users/scottsturtz/opt/anaconda3/lib/python3.9/site-packages)\u001b[0m\n",
            "\u001b[33mWARNING: Ignoring invalid distribution - (/Users/scottsturtz/opt/anaconda3/lib/python3.9/site-packages)\u001b[0m\n",
            "\u001b[33mWARNING: Ignoring invalid distribution -umpy (/Users/scottsturtz/opt/anaconda3/lib/python3.9/site-packages)\u001b[0m\n",
            "\u001b[33mWARNING: Ignoring invalid distribution -ix (/Users/scottsturtz/opt/anaconda3/lib/python3.9/site-packages)\u001b[0m\n",
            "\u001b[33mWARNING: Ignoring invalid distribution - (/Users/scottsturtz/opt/anaconda3/lib/python3.9/site-packages)\u001b[0m\n",
            "\u001b[33mWARNING: Ignoring invalid distribution -umpy (/Users/scottsturtz/opt/anaconda3/lib/python3.9/site-packages)\u001b[0m\n",
            "\u001b[33mWARNING: Ignoring invalid distribution -ix (/Users/scottsturtz/opt/anaconda3/lib/python3.9/site-packages)\u001b[0m\n",
            "\u001b[33mWARNING: Ignoring invalid distribution - (/Users/scottsturtz/opt/anaconda3/lib/python3.9/site-packages)\u001b[0m\n",
            "\u001b[33mWARNING: Ignoring invalid distribution -umpy (/Users/scottsturtz/opt/anaconda3/lib/python3.9/site-packages)\u001b[0m\n",
            "\u001b[33mWARNING: Ignoring invalid distribution -ix (/Users/scottsturtz/opt/anaconda3/lib/python3.9/site-packages)\u001b[0m\n",
            "\u001b[33mWARNING: Ignoring invalid distribution - (/Users/scottsturtz/opt/anaconda3/lib/python3.9/site-packages)\u001b[0m\n",
            "Collecting tensorflow_text\n",
            "  Using cached tensorflow_text-2.5.0-cp39-cp39-macosx_10_9_x86_64.whl (3.6 MB)\n",
            "Requirement already satisfied: tensorflow-hub>=0.8.0 in /Users/scottsturtz/opt/anaconda3/lib/python3.9/site-packages (from tensorflow_text) (0.12.0)\n",
            "Requirement already satisfied: tensorflow<2.6,>=2.5.0 in /Users/scottsturtz/opt/anaconda3/lib/python3.9/site-packages (from tensorflow_text) (2.5.0)\n",
            "Requirement already satisfied: h5py~=3.1.0 in /Users/scottsturtz/opt/anaconda3/lib/python3.9/site-packages (from tensorflow<2.6,>=2.5.0->tensorflow_text) (3.1.0)\n",
            "Requirement already satisfied: protobuf>=3.9.2 in /Users/scottsturtz/opt/anaconda3/lib/python3.9/site-packages (from tensorflow<2.6,>=2.5.0->tensorflow_text) (3.17.3)\n",
            "Requirement already satisfied: opt-einsum~=3.3.0 in /Users/scottsturtz/opt/anaconda3/lib/python3.9/site-packages (from tensorflow<2.6,>=2.5.0->tensorflow_text) (3.3.0)\n",
            "Requirement already satisfied: gast==0.4.0 in /Users/scottsturtz/opt/anaconda3/lib/python3.9/site-packages (from tensorflow<2.6,>=2.5.0->tensorflow_text) (0.4.0)\n",
            "Requirement already satisfied: termcolor~=1.1.0 in /Users/scottsturtz/opt/anaconda3/lib/python3.9/site-packages (from tensorflow<2.6,>=2.5.0->tensorflow_text) (1.1.0)\n",
            "Requirement already satisfied: grpcio~=1.34.0 in /Users/scottsturtz/opt/anaconda3/lib/python3.9/site-packages (from tensorflow<2.6,>=2.5.0->tensorflow_text) (1.34.1)\n",
            "Requirement already satisfied: keras-nightly~=2.5.0.dev in /Users/scottsturtz/opt/anaconda3/lib/python3.9/site-packages (from tensorflow<2.6,>=2.5.0->tensorflow_text) (2.5.0.dev2021032900)\n",
            "Requirement already satisfied: wheel~=0.35 in /Users/scottsturtz/opt/anaconda3/lib/python3.9/site-packages (from tensorflow<2.6,>=2.5.0->tensorflow_text) (0.36.2)\n",
            "Requirement already satisfied: google-pasta~=0.2 in /Users/scottsturtz/opt/anaconda3/lib/python3.9/site-packages (from tensorflow<2.6,>=2.5.0->tensorflow_text) (0.2.0)\n",
            "Requirement already satisfied: wrapt~=1.12.1 in /Users/scottsturtz/opt/anaconda3/lib/python3.9/site-packages (from tensorflow<2.6,>=2.5.0->tensorflow_text) (1.12.1)\n",
            "Requirement already satisfied: flatbuffers~=1.12.0 in /Users/scottsturtz/opt/anaconda3/lib/python3.9/site-packages (from tensorflow<2.6,>=2.5.0->tensorflow_text) (1.12)\n",
            "Requirement already satisfied: astunparse~=1.6.3 in /Users/scottsturtz/opt/anaconda3/lib/python3.9/site-packages (from tensorflow<2.6,>=2.5.0->tensorflow_text) (1.6.3)\n",
            "Requirement already satisfied: tensorboard~=2.5 in /Users/scottsturtz/opt/anaconda3/lib/python3.9/site-packages (from tensorflow<2.6,>=2.5.0->tensorflow_text) (2.5.0)\n",
            "Requirement already satisfied: keras-preprocessing~=1.1.2 in /Users/scottsturtz/opt/anaconda3/lib/python3.9/site-packages (from tensorflow<2.6,>=2.5.0->tensorflow_text) (1.1.2)\n",
            "Requirement already satisfied: typing-extensions~=3.7.4 in /Users/scottsturtz/opt/anaconda3/lib/python3.9/site-packages (from tensorflow<2.6,>=2.5.0->tensorflow_text) (3.7.4.3)\n",
            "Requirement already satisfied: six~=1.15.0 in /Users/scottsturtz/opt/anaconda3/lib/python3.9/site-packages (from tensorflow<2.6,>=2.5.0->tensorflow_text) (1.15.0)\n",
            "Requirement already satisfied: numpy~=1.19.2 in /Users/scottsturtz/opt/anaconda3/lib/python3.9/site-packages (from tensorflow<2.6,>=2.5.0->tensorflow_text) (1.19.5)\n",
            "Requirement already satisfied: tensorflow-estimator<2.6.0,>=2.5.0rc0 in /Users/scottsturtz/opt/anaconda3/lib/python3.9/site-packages (from tensorflow<2.6,>=2.5.0->tensorflow_text) (2.5.0)\n",
            "Requirement already satisfied: absl-py~=0.10 in /Users/scottsturtz/opt/anaconda3/lib/python3.9/site-packages (from tensorflow<2.6,>=2.5.0->tensorflow_text) (0.12.0)\n",
            "Requirement already satisfied: setuptools>=41.0.0 in /Users/scottsturtz/opt/anaconda3/lib/python3.9/site-packages (from tensorboard~=2.5->tensorflow<2.6,>=2.5.0->tensorflow_text) (52.0.0.post20210125)\n",
            "Requirement already satisfied: markdown>=2.6.8 in /Users/scottsturtz/opt/anaconda3/lib/python3.9/site-packages (from tensorboard~=2.5->tensorflow<2.6,>=2.5.0->tensorflow_text) (3.3.4)\n",
            "Requirement already satisfied: werkzeug>=0.11.15 in /Users/scottsturtz/opt/anaconda3/lib/python3.9/site-packages (from tensorboard~=2.5->tensorflow<2.6,>=2.5.0->tensorflow_text) (2.0.1)\n",
            "Requirement already satisfied: requests<3,>=2.21.0 in /Users/scottsturtz/opt/anaconda3/lib/python3.9/site-packages (from tensorboard~=2.5->tensorflow<2.6,>=2.5.0->tensorflow_text) (2.25.1)\n",
            "Requirement already satisfied: google-auth<2,>=1.6.3 in /Users/scottsturtz/opt/anaconda3/lib/python3.9/site-packages (from tensorboard~=2.5->tensorflow<2.6,>=2.5.0->tensorflow_text) (1.31.0)\n",
            "Requirement already satisfied: tensorboard-plugin-wit>=1.6.0 in /Users/scottsturtz/opt/anaconda3/lib/python3.9/site-packages (from tensorboard~=2.5->tensorflow<2.6,>=2.5.0->tensorflow_text) (1.8.0)\n",
            "Requirement already satisfied: google-auth-oauthlib<0.5,>=0.4.1 in /Users/scottsturtz/opt/anaconda3/lib/python3.9/site-packages (from tensorboard~=2.5->tensorflow<2.6,>=2.5.0->tensorflow_text) (0.4.4)\n",
            "Requirement already satisfied: tensorboard-data-server<0.7.0,>=0.6.0 in /Users/scottsturtz/opt/anaconda3/lib/python3.9/site-packages (from tensorboard~=2.5->tensorflow<2.6,>=2.5.0->tensorflow_text) (0.6.1)\n",
            "Requirement already satisfied: rsa<5,>=3.1.4 in /Users/scottsturtz/opt/anaconda3/lib/python3.9/site-packages (from google-auth<2,>=1.6.3->tensorboard~=2.5->tensorflow<2.6,>=2.5.0->tensorflow_text) (4.7.2)\n",
            "Requirement already satisfied: pyasn1-modules>=0.2.1 in /Users/scottsturtz/opt/anaconda3/lib/python3.9/site-packages (from google-auth<2,>=1.6.3->tensorboard~=2.5->tensorflow<2.6,>=2.5.0->tensorflow_text) (0.2.8)\n",
            "Requirement already satisfied: cachetools<5.0,>=2.0.0 in /Users/scottsturtz/opt/anaconda3/lib/python3.9/site-packages (from google-auth<2,>=1.6.3->tensorboard~=2.5->tensorflow<2.6,>=2.5.0->tensorflow_text) (4.2.2)\n",
            "Requirement already satisfied: requests-oauthlib>=0.7.0 in /Users/scottsturtz/opt/anaconda3/lib/python3.9/site-packages (from google-auth-oauthlib<0.5,>=0.4.1->tensorboard~=2.5->tensorflow<2.6,>=2.5.0->tensorflow_text) (1.3.0)\n",
            "Requirement already satisfied: pyasn1<0.5.0,>=0.4.6 in /Users/scottsturtz/opt/anaconda3/lib/python3.9/site-packages (from pyasn1-modules>=0.2.1->google-auth<2,>=1.6.3->tensorboard~=2.5->tensorflow<2.6,>=2.5.0->tensorflow_text) (0.4.8)\n",
            "Requirement already satisfied: certifi>=2017.4.17 in /Users/scottsturtz/opt/anaconda3/lib/python3.9/site-packages (from requests<3,>=2.21.0->tensorboard~=2.5->tensorflow<2.6,>=2.5.0->tensorflow_text) (2021.5.30)\n",
            "Requirement already satisfied: idna<3,>=2.5 in /Users/scottsturtz/opt/anaconda3/lib/python3.9/site-packages (from requests<3,>=2.21.0->tensorboard~=2.5->tensorflow<2.6,>=2.5.0->tensorflow_text) (2.10)\n",
            "Requirement already satisfied: chardet<5,>=3.0.2 in /Users/scottsturtz/opt/anaconda3/lib/python3.9/site-packages (from requests<3,>=2.21.0->tensorboard~=2.5->tensorflow<2.6,>=2.5.0->tensorflow_text) (3.0.4)\n",
            "Requirement already satisfied: urllib3<1.27,>=1.21.1 in /Users/scottsturtz/opt/anaconda3/lib/python3.9/site-packages (from requests<3,>=2.21.0->tensorboard~=2.5->tensorflow<2.6,>=2.5.0->tensorflow_text) (1.25.11)\n",
            "Requirement already satisfied: oauthlib>=3.0.0 in /Users/scottsturtz/opt/anaconda3/lib/python3.9/site-packages (from requests-oauthlib>=0.7.0->google-auth-oauthlib<0.5,>=0.4.1->tensorboard~=2.5->tensorflow<2.6,>=2.5.0->tensorflow_text) (3.1.1)\n",
            "\u001b[33mWARNING: Ignoring invalid distribution -umpy (/Users/scottsturtz/opt/anaconda3/lib/python3.9/site-packages)\u001b[0m\n",
            "\u001b[33mWARNING: Ignoring invalid distribution -ix (/Users/scottsturtz/opt/anaconda3/lib/python3.9/site-packages)\u001b[0m\n",
            "\u001b[33mWARNING: Ignoring invalid distribution - (/Users/scottsturtz/opt/anaconda3/lib/python3.9/site-packages)\u001b[0m\n",
            "Installing collected packages: tensorflow-text\n",
            "\u001b[33mWARNING: Ignoring invalid distribution -umpy (/Users/scottsturtz/opt/anaconda3/lib/python3.9/site-packages)\u001b[0m\n",
            "\u001b[33mWARNING: Ignoring invalid distribution -ix (/Users/scottsturtz/opt/anaconda3/lib/python3.9/site-packages)\u001b[0m\n",
            "\u001b[33mWARNING: Ignoring invalid distribution - (/Users/scottsturtz/opt/anaconda3/lib/python3.9/site-packages)\u001b[0m\n",
            "Successfully installed tensorflow-text-2.5.0\n",
            "\u001b[33mWARNING: Ignoring invalid distribution -umpy (/Users/scottsturtz/opt/anaconda3/lib/python3.9/site-packages)\u001b[0m\n",
            "\u001b[33mWARNING: Ignoring invalid distribution -ix (/Users/scottsturtz/opt/anaconda3/lib/python3.9/site-packages)\u001b[0m\n",
            "\u001b[33mWARNING: Ignoring invalid distribution - (/Users/scottsturtz/opt/anaconda3/lib/python3.9/site-packages)\u001b[0m\n",
            "\u001b[33mWARNING: Ignoring invalid distribution -umpy (/Users/scottsturtz/opt/anaconda3/lib/python3.9/site-packages)\u001b[0m\n",
            "\u001b[33mWARNING: Ignoring invalid distribution -ix (/Users/scottsturtz/opt/anaconda3/lib/python3.9/site-packages)\u001b[0m\n",
            "\u001b[33mWARNING: Ignoring invalid distribution - (/Users/scottsturtz/opt/anaconda3/lib/python3.9/site-packages)\u001b[0m\n",
            "\u001b[33mWARNING: Ignoring invalid distribution -umpy (/Users/scottsturtz/opt/anaconda3/lib/python3.9/site-packages)\u001b[0m\n",
            "\u001b[33mWARNING: Ignoring invalid distribution -ix (/Users/scottsturtz/opt/anaconda3/lib/python3.9/site-packages)\u001b[0m\n",
            "\u001b[33mWARNING: Ignoring invalid distribution - (/Users/scottsturtz/opt/anaconda3/lib/python3.9/site-packages)\u001b[0m\n"
          ]
        }
      ],
      "metadata": {
        "colab": {
          "base_uri": "https://localhost:8080/"
        },
        "id": "8E7LlRxgASGQ",
        "outputId": "6a545fa0-7063-4d85-ffa2-4dbb72b93f2a"
      }
    },
    {
      "cell_type": "code",
      "execution_count": 4,
      "source": [
        "# 'imports; megabytes of imports'  - Johnny 5\n",
        "import pandas as pd\n",
        "import numpy as np\n",
        "# from google.colab import files\n",
        "import pandas_profiling\n",
        "import seaborn as sns\n",
        "import matplotlib.pyplot as plt\n",
        "import folium\n",
        "from folium.plugins import FastMarkerCluster, Fullscreen, MiniMap, HeatMap, HeatMapWithTime\n",
        "import geopandas as gpd\n",
        "import os\n",
        "import re\n",
        "import shutil\n",
        "import string\n",
        "import operator\n",
        "import pathlib\n",
        "\n",
        "\n",
        "import tensorflow as tf\n",
        "import tensorflow_datasets as tfds\n",
        "import tensorflow_hub as hub\n",
        "from tensorflow.keras import layers\n",
        "from tensorflow.keras import losses\n",
        "from tensorflow.keras import preprocessing\n",
        "from tensorflow.keras.layers.experimental.preprocessing import TextVectorization\n",
        "from tensorflow.keras.preprocessing.text import Tokenizer\n",
        "from tensorflow.keras.preprocessing.sequence import pad_sequences\n",
        "import tensorflow_text as tf_text\n",
        "from tensorflow.keras.layers import Dense, Embedding, GlobalAveragePooling1D\n",
        "\n",
        "import nltk\n",
        "nltk.download('stopwords')\n",
        "from nltk.corpus import stopwords\n",
        "\n",
        "from sklearn.metrics import log_loss, make_scorer, confusion_matrix, ConfusionMatrixDisplay\n",
        "from sklearn.feature_extraction.text import CountVectorizer, TfidfTransformer\n",
        "from sklearn.model_selection import train_test_split,cross_val_score,  GridSearchCV\n",
        "from sklearn.feature_selection import f_classif\n",
        "from sklearn.ensemble import RandomForestClassifier, GradientBoostingClassifier\n",
        "from sklearn.ensemble import RandomForestRegressor\n",
        "from sklearn import metrics\n",
        "from sklearn.naive_bayes import MultinomialNB"
      ],
      "outputs": [
        {
          "output_type": "error",
          "ename": "ModuleNotFoundError",
          "evalue": "No module named 'google.colab'",
          "traceback": [
            "\u001b[0;31m---------------------------------------------------------------------------\u001b[0m",
            "\u001b[0;31mModuleNotFoundError\u001b[0m                       Traceback (most recent call last)",
            "\u001b[0;32m<ipython-input-4-738ffef75ade>\u001b[0m in \u001b[0;36m<module>\u001b[0;34m\u001b[0m\n\u001b[1;32m      2\u001b[0m \u001b[0;32mimport\u001b[0m \u001b[0mpandas\u001b[0m \u001b[0;32mas\u001b[0m \u001b[0mpd\u001b[0m\u001b[0;34m\u001b[0m\u001b[0;34m\u001b[0m\u001b[0m\n\u001b[1;32m      3\u001b[0m \u001b[0;32mimport\u001b[0m \u001b[0mnumpy\u001b[0m \u001b[0;32mas\u001b[0m \u001b[0mnp\u001b[0m\u001b[0;34m\u001b[0m\u001b[0;34m\u001b[0m\u001b[0m\n\u001b[0;32m----> 4\u001b[0;31m \u001b[0;32mfrom\u001b[0m \u001b[0mgoogle\u001b[0m\u001b[0;34m.\u001b[0m\u001b[0mcolab\u001b[0m \u001b[0;32mimport\u001b[0m \u001b[0mfiles\u001b[0m\u001b[0;34m\u001b[0m\u001b[0;34m\u001b[0m\u001b[0m\n\u001b[0m\u001b[1;32m      5\u001b[0m \u001b[0;32mimport\u001b[0m \u001b[0mpandas_profiling\u001b[0m\u001b[0;34m\u001b[0m\u001b[0;34m\u001b[0m\u001b[0m\n\u001b[1;32m      6\u001b[0m \u001b[0;32mimport\u001b[0m \u001b[0mseaborn\u001b[0m \u001b[0;32mas\u001b[0m \u001b[0msns\u001b[0m\u001b[0;34m\u001b[0m\u001b[0;34m\u001b[0m\u001b[0m\n",
            "\u001b[0;31mModuleNotFoundError\u001b[0m: No module named 'google.colab'"
          ]
        }
      ],
      "metadata": {
        "colab": {
          "base_uri": "https://localhost:8080/"
        },
        "id": "6XKiRCUdV2Cr",
        "outputId": "48f33d65-3a59-4eff-deb3-d2a36439b31b"
      }
    },
    {
      "cell_type": "code",
      "execution_count": null,
      "source": [],
      "outputs": [],
      "metadata": {
        "id": "wy2m03fwqxkd"
      }
    },
    {
      "cell_type": "code",
      "execution_count": null,
      "source": [
        "\n",
        "\n",
        "from google.colab import drive\n",
        "drive.mount('/content/drive')\n",
        " \n",
        "\n",
        "\n"
      ],
      "outputs": [
        {
          "output_type": "stream",
          "name": "stdout",
          "text": [
            "Drive already mounted at /content/drive; to attempt to forcibly remount, call drive.mount(\"/content/drive\", force_remount=True).\n"
          ]
        }
      ],
      "metadata": {
        "colab": {
          "base_uri": "https://localhost:8080/"
        },
        "id": "K6MsZpGvUu_1",
        "outputId": "7527f59d-05c7-41b8-a2ef-c16651a0652a"
      }
    },
    {
      "cell_type": "code",
      "execution_count": null,
      "source": [],
      "outputs": [],
      "metadata": {
        "id": "kbQnTONPnmj-"
      }
    },
    {
      "cell_type": "code",
      "execution_count": null,
      "source": [
        "# import dataset\n",
        "tdata = pd.read_csv('/content/drive/MyDrive/globalterrorismdb_0718dist.csv', engine='python')\n",
        "tdata.set_index('eventid')\n",
        "pd.options.display.max_columns = 40\n",
        "pd.options.display.max_rows = 200"
      ],
      "outputs": [],
      "metadata": {
        "id": "EoXpaESFV2Cu"
      }
    },
    {
      "cell_type": "code",
      "execution_count": null,
      "source": [
        "\n"
      ],
      "outputs": [],
      "metadata": {
        "id": "pKKccgTpBAIB"
      }
    },
    {
      "cell_type": "code",
      "execution_count": null,
      "source": [],
      "outputs": [],
      "metadata": {
        "id": "8eTxo6D10OrQ"
      }
    },
    {
      "cell_type": "code",
      "execution_count": null,
      "source": [
        "# pandas_profiling.ProfileReport(tdata)"
      ],
      "outputs": [],
      "metadata": {
        "id": "z0oRYeWwiEAq"
      }
    },
    {
      "cell_type": "markdown",
      "source": [
        "# Data EDA and Cleaning"
      ],
      "metadata": {
        "id": "M5bIVC9JyZFp"
      }
    },
    {
      "cell_type": "code",
      "execution_count": null,
      "source": [
        "# columns that can be removed: \n",
        "out_columns =  ['weapsubtype1', 'weaptype1', 'claimed',   'nperpcap', 'nwoundus', 'propvalue', 'propcomment', 'addnotes', 'INT_LOG', 'INT_IDEO', 'INT_MISC', 'INT_ANY', 'related',  'property',  'propextent','nperps', 'natlty1', 'targsubtype1','motive','dbsource','approxdate' , 'extended' , 'resolution' , 'vicinity' , 'location' , 'alternative', 'alternative_txt', 'multiple', 'attacktype2', 'attacktype2_txt' , 'attacktype3' ,'attacktype3_txt' ,'targtype2' ,\t'targtype2_txt' , \t'targsubtype2'\t, 'targsubtype2_txt' ,\t'corp2' , \t 'target2',\t'natlty2',\t'natlty2_txt','targtype3',\t'targtype3_txt',\t'targsubtype3',\t'targsubtype3_txt',\t'corp3',\t'target3',\t'natlty3',\t'natlty3_txt',\t'gsubname',\t'gname2',\t'gsubname2',\t'gname3',\t'gsubname3',\t'guncertain2',\t'guncertain3', 'claimmode',\t'claimmode_txt',\t'claim2',\t'claimmode2',\t'claimmode2_txt','claim3',\t'claimmode3',\t'claimmode3_txt',\t'compclaim', 'weaptype2',\t'weaptype2_txt',\t'weapsubtype2',\t'weapsubtype2_txt',\t'weaptype3', 'weapsubtype3',\t'weapsubtype3_txt', 'weaptype4','weaptype4_txt',\t'weapsubtype4',\t'weapsubtype4_txt', 'nkillus',\t'nkillter',\t'nwound',\t'nwoundte', 'ishostkid',\t'nhostkid',\t'nhostkidus',\t'nhours',\t'ndays',\t'divert', 'kidhijcountry',\t'ransom',\t'ransomamt',\t'ransomamtus',\t'ransompaid',\t'ransompaidus',\t'ransomnote',\t'hostkidoutcome',\t'hostkidoutcome_txt', 'nreleased', 'weaptype3_txt' ]\n",
        "\n",
        "tdata = tdata.drop(columns = out_columns) \n"
      ],
      "outputs": [],
      "metadata": {
        "id": "CV8-BKMvV2Cw"
      }
    },
    {
      "cell_type": "code",
      "execution_count": null,
      "source": [
        "\n",
        "counts = tdata['gname'].value_counts()\n",
        "\n",
        "tdata = tdata[tdata['gname'].isin(counts[counts > 400].index)]\n",
        "counts = tdata['gname'].value_counts()\n",
        "print(counts)"
      ],
      "outputs": [
        {
          "output_type": "error",
          "ename": "TypeError",
          "evalue": "ignored",
          "traceback": [
            "\u001b[0;31m---------------------------------------------------------------------------\u001b[0m",
            "\u001b[0;31mTypeError\u001b[0m                                 Traceback (most recent call last)",
            "\u001b[0;32m<ipython-input-154-73a6400720b2>\u001b[0m in \u001b[0;36m<module>\u001b[0;34m()\u001b[0m\n\u001b[1;32m      2\u001b[0m \u001b[0mcounts\u001b[0m \u001b[0;34m=\u001b[0m \u001b[0mtdata\u001b[0m\u001b[0;34m[\u001b[0m\u001b[0;34m'gname'\u001b[0m\u001b[0;34m]\u001b[0m\u001b[0;34m.\u001b[0m\u001b[0mvalue_counts\u001b[0m\u001b[0;34m(\u001b[0m\u001b[0;34m)\u001b[0m\u001b[0;34m\u001b[0m\u001b[0;34m\u001b[0m\u001b[0m\n\u001b[1;32m      3\u001b[0m \u001b[0;34m\u001b[0m\u001b[0m\n\u001b[0;32m----> 4\u001b[0;31m \u001b[0mtdata\u001b[0m \u001b[0;34m=\u001b[0m \u001b[0mtdata\u001b[0m\u001b[0;34m[\u001b[0m\u001b[0mtdata\u001b[0m\u001b[0;34m[\u001b[0m\u001b[0;34m'gname'\u001b[0m\u001b[0;34m]\u001b[0m\u001b[0;34m.\u001b[0m\u001b[0misin\u001b[0m\u001b[0;34m(\u001b[0m\u001b[0mcounts\u001b[0m\u001b[0;34m[\u001b[0m\u001b[0mcounts\u001b[0m \u001b[0;34m>\u001b[0m \u001b[0;36m400\u001b[0m\u001b[0;34m]\u001b[0m\u001b[0;34m.\u001b[0m\u001b[0mindex\u001b[0m\u001b[0;34m)\u001b[0m\u001b[0;34m]\u001b[0m\u001b[0;34m\u001b[0m\u001b[0;34m\u001b[0m\u001b[0m\n\u001b[0m\u001b[1;32m      5\u001b[0m \u001b[0mcounts\u001b[0m \u001b[0;34m=\u001b[0m \u001b[0mtdata\u001b[0m\u001b[0;34m[\u001b[0m\u001b[0;34m'gname'\u001b[0m\u001b[0;34m]\u001b[0m\u001b[0;34m.\u001b[0m\u001b[0mvalue_counts\u001b[0m\u001b[0;34m(\u001b[0m\u001b[0;34m)\u001b[0m\u001b[0;34m\u001b[0m\u001b[0;34m\u001b[0m\u001b[0m\n\u001b[1;32m      6\u001b[0m \u001b[0mprint\u001b[0m\u001b[0;34m(\u001b[0m\u001b[0mcounts\u001b[0m\u001b[0;34m)\u001b[0m\u001b[0;34m\u001b[0m\u001b[0;34m\u001b[0m\u001b[0m\n",
            "\u001b[0;32m/usr/local/lib/python3.7/dist-packages/pandas/core/ops/common.py\u001b[0m in \u001b[0;36mnew_method\u001b[0;34m(self, other)\u001b[0m\n\u001b[1;32m     63\u001b[0m                     \u001b[0;32mbreak\u001b[0m\u001b[0;34m\u001b[0m\u001b[0;34m\u001b[0m\u001b[0m\n\u001b[1;32m     64\u001b[0m                 \u001b[0;32mif\u001b[0m \u001b[0misinstance\u001b[0m\u001b[0;34m(\u001b[0m\u001b[0mother\u001b[0m\u001b[0;34m,\u001b[0m \u001b[0mcls\u001b[0m\u001b[0;34m)\u001b[0m\u001b[0;34m:\u001b[0m\u001b[0;34m\u001b[0m\u001b[0;34m\u001b[0m\u001b[0m\n\u001b[0;32m---> 65\u001b[0;31m                     \u001b[0;32mreturn\u001b[0m \u001b[0mNotImplemented\u001b[0m\u001b[0;34m\u001b[0m\u001b[0;34m\u001b[0m\u001b[0m\n\u001b[0m\u001b[1;32m     66\u001b[0m \u001b[0;34m\u001b[0m\u001b[0m\n\u001b[1;32m     67\u001b[0m         \u001b[0mother\u001b[0m \u001b[0;34m=\u001b[0m \u001b[0mitem_from_zerodim\u001b[0m\u001b[0;34m(\u001b[0m\u001b[0mother\u001b[0m\u001b[0;34m)\u001b[0m\u001b[0;34m\u001b[0m\u001b[0;34m\u001b[0m\u001b[0m\n",
            "\u001b[0;32m/usr/local/lib/python3.7/dist-packages/pandas/core/ops/__init__.py\u001b[0m in \u001b[0;36mwrapper\u001b[0;34m(self, other)\u001b[0m\n\u001b[1;32m    368\u001b[0m     \u001b[0;31m#  to avoid constructing two potentially large/sparse DataFrames\u001b[0m\u001b[0;34m\u001b[0m\u001b[0;34m\u001b[0m\u001b[0;34m\u001b[0m\u001b[0m\n\u001b[1;32m    369\u001b[0m     join_columns, _, _ = left.columns.join(\n\u001b[0;32m--> 370\u001b[0;31m         \u001b[0mright\u001b[0m\u001b[0;34m.\u001b[0m\u001b[0mcolumns\u001b[0m\u001b[0;34m,\u001b[0m \u001b[0mhow\u001b[0m\u001b[0;34m=\u001b[0m\u001b[0;34m\"outer\"\u001b[0m\u001b[0;34m,\u001b[0m \u001b[0mlevel\u001b[0m\u001b[0;34m=\u001b[0m\u001b[0;32mNone\u001b[0m\u001b[0;34m,\u001b[0m \u001b[0mreturn_indexers\u001b[0m\u001b[0;34m=\u001b[0m\u001b[0;32mTrue\u001b[0m\u001b[0;34m\u001b[0m\u001b[0;34m\u001b[0m\u001b[0m\n\u001b[0m\u001b[1;32m    371\u001b[0m     )\n\u001b[1;32m    372\u001b[0m \u001b[0;34m\u001b[0m\u001b[0m\n",
            "\u001b[0;32m/usr/local/lib/python3.7/dist-packages/pandas/core/ops/array_ops.py\u001b[0m in \u001b[0;36mcomparison_op\u001b[0;34m(left, right, op)\u001b[0m\n\u001b[1;32m    249\u001b[0m     \u001b[0mrvalues\u001b[0m \u001b[0;34m=\u001b[0m \u001b[0mensure_wrapped_if_datetimelike\u001b[0m\u001b[0;34m(\u001b[0m\u001b[0mright\u001b[0m\u001b[0;34m)\u001b[0m\u001b[0;34m\u001b[0m\u001b[0;34m\u001b[0m\u001b[0m\n\u001b[1;32m    250\u001b[0m \u001b[0;34m\u001b[0m\u001b[0m\n\u001b[0;32m--> 251\u001b[0;31m     \u001b[0mrvalues\u001b[0m \u001b[0;34m=\u001b[0m \u001b[0mlib\u001b[0m\u001b[0;34m.\u001b[0m\u001b[0mitem_from_zerodim\u001b[0m\u001b[0;34m(\u001b[0m\u001b[0mrvalues\u001b[0m\u001b[0;34m)\u001b[0m\u001b[0;34m\u001b[0m\u001b[0;34m\u001b[0m\u001b[0m\n\u001b[0m\u001b[1;32m    252\u001b[0m     \u001b[0;32mif\u001b[0m \u001b[0misinstance\u001b[0m\u001b[0;34m(\u001b[0m\u001b[0mrvalues\u001b[0m\u001b[0;34m,\u001b[0m \u001b[0mlist\u001b[0m\u001b[0;34m)\u001b[0m\u001b[0;34m:\u001b[0m\u001b[0;34m\u001b[0m\u001b[0;34m\u001b[0m\u001b[0m\n\u001b[1;32m    253\u001b[0m         \u001b[0;31m# TODO: same for tuples?\u001b[0m\u001b[0;34m\u001b[0m\u001b[0;34m\u001b[0m\u001b[0;34m\u001b[0m\u001b[0m\n",
            "\u001b[0;32m/usr/local/lib/python3.7/dist-packages/pandas/core/ops/array_ops.py\u001b[0m in \u001b[0;36mna_arithmetic_op\u001b[0;34m(left, right, op, is_cmp)\u001b[0m\n\u001b[1;32m    138\u001b[0m \u001b[0;32mdef\u001b[0m \u001b[0m_na_arithmetic_op\u001b[0m\u001b[0;34m(\u001b[0m\u001b[0mleft\u001b[0m\u001b[0;34m,\u001b[0m \u001b[0mright\u001b[0m\u001b[0;34m,\u001b[0m \u001b[0mop\u001b[0m\u001b[0;34m,\u001b[0m \u001b[0mis_cmp\u001b[0m\u001b[0;34m:\u001b[0m \u001b[0mbool\u001b[0m \u001b[0;34m=\u001b[0m \u001b[0;32mFalse\u001b[0m\u001b[0;34m)\u001b[0m\u001b[0;34m:\u001b[0m\u001b[0;34m\u001b[0m\u001b[0;34m\u001b[0m\u001b[0m\n\u001b[1;32m    139\u001b[0m     \"\"\"\n\u001b[0;32m--> 140\u001b[0;31m     \u001b[0mReturn\u001b[0m \u001b[0mthe\u001b[0m \u001b[0mresult\u001b[0m \u001b[0mof\u001b[0m \u001b[0mevaluating\u001b[0m \u001b[0mop\u001b[0m \u001b[0mon\u001b[0m \u001b[0mthe\u001b[0m \u001b[0mpassed\u001b[0m \u001b[0;32min\u001b[0m \u001b[0mvalues\u001b[0m\u001b[0;34m.\u001b[0m\u001b[0;34m\u001b[0m\u001b[0;34m\u001b[0m\u001b[0m\n\u001b[0m\u001b[1;32m    141\u001b[0m \u001b[0;34m\u001b[0m\u001b[0m\n\u001b[1;32m    142\u001b[0m     \u001b[0mIf\u001b[0m \u001b[0mnative\u001b[0m \u001b[0mtypes\u001b[0m \u001b[0mare\u001b[0m \u001b[0;32mnot\u001b[0m \u001b[0mcompatible\u001b[0m\u001b[0;34m,\u001b[0m \u001b[0;32mtry\u001b[0m \u001b[0mcoercion\u001b[0m \u001b[0mto\u001b[0m \u001b[0mobject\u001b[0m \u001b[0mdtype\u001b[0m\u001b[0;34m.\u001b[0m\u001b[0;34m\u001b[0m\u001b[0;34m\u001b[0m\u001b[0m\n",
            "\u001b[0;32m/usr/local/lib/python3.7/dist-packages/pandas/core/computation/expressions.py\u001b[0m in \u001b[0;36m<module>\u001b[0;34m()\u001b[0m\n\u001b[1;32m     17\u001b[0m \u001b[0;32mfrom\u001b[0m \u001b[0mpandas\u001b[0m\u001b[0;34m.\u001b[0m\u001b[0m_typing\u001b[0m \u001b[0;32mimport\u001b[0m \u001b[0mFuncType\u001b[0m\u001b[0;34m\u001b[0m\u001b[0;34m\u001b[0m\u001b[0m\n\u001b[1;32m     18\u001b[0m \u001b[0;34m\u001b[0m\u001b[0m\n\u001b[0;32m---> 19\u001b[0;31m \u001b[0;32mfrom\u001b[0m \u001b[0mpandas\u001b[0m\u001b[0;34m.\u001b[0m\u001b[0mcore\u001b[0m\u001b[0;34m.\u001b[0m\u001b[0mcomputation\u001b[0m\u001b[0;34m.\u001b[0m\u001b[0mcheck\u001b[0m \u001b[0;32mimport\u001b[0m \u001b[0mNUMEXPR_INSTALLED\u001b[0m\u001b[0;34m\u001b[0m\u001b[0;34m\u001b[0m\u001b[0m\n\u001b[0m\u001b[1;32m     20\u001b[0m \u001b[0;32mfrom\u001b[0m \u001b[0mpandas\u001b[0m\u001b[0;34m.\u001b[0m\u001b[0mcore\u001b[0m\u001b[0;34m.\u001b[0m\u001b[0mops\u001b[0m \u001b[0;32mimport\u001b[0m \u001b[0mroperator\u001b[0m\u001b[0;34m\u001b[0m\u001b[0;34m\u001b[0m\u001b[0m\n\u001b[1;32m     21\u001b[0m \u001b[0;34m\u001b[0m\u001b[0m\n",
            "\u001b[0;32m/usr/local/lib/python3.7/dist-packages/pandas/core/computation/check.py\u001b[0m in \u001b[0;36m<module>\u001b[0;34m()\u001b[0m\n\u001b[1;32m      1\u001b[0m \u001b[0;32mfrom\u001b[0m \u001b[0mpandas\u001b[0m\u001b[0;34m.\u001b[0m\u001b[0mcompat\u001b[0m\u001b[0;34m.\u001b[0m\u001b[0m_optional\u001b[0m \u001b[0;32mimport\u001b[0m \u001b[0mimport_optional_dependency\u001b[0m\u001b[0;34m\u001b[0m\u001b[0;34m\u001b[0m\u001b[0m\n\u001b[1;32m      2\u001b[0m \u001b[0;34m\u001b[0m\u001b[0m\n\u001b[0;32m----> 3\u001b[0;31m \u001b[0mne\u001b[0m \u001b[0;34m=\u001b[0m \u001b[0mimport_optional_dependency\u001b[0m\u001b[0;34m(\u001b[0m\u001b[0;34m\"numexpr\"\u001b[0m\u001b[0;34m,\u001b[0m \u001b[0merrors\u001b[0m\u001b[0;34m=\u001b[0m\u001b[0;34m\"warn\"\u001b[0m\u001b[0;34m)\u001b[0m\u001b[0;34m\u001b[0m\u001b[0;34m\u001b[0m\u001b[0m\n\u001b[0m\u001b[1;32m      4\u001b[0m \u001b[0mNUMEXPR_INSTALLED\u001b[0m \u001b[0;34m=\u001b[0m \u001b[0mne\u001b[0m \u001b[0;32mis\u001b[0m \u001b[0;32mnot\u001b[0m \u001b[0;32mNone\u001b[0m\u001b[0;34m\u001b[0m\u001b[0;34m\u001b[0m\u001b[0m\n\u001b[1;32m      5\u001b[0m \u001b[0;32mif\u001b[0m \u001b[0mNUMEXPR_INSTALLED\u001b[0m\u001b[0;34m:\u001b[0m\u001b[0;34m\u001b[0m\u001b[0;34m\u001b[0m\u001b[0m\n",
            "\u001b[0;31mTypeError\u001b[0m: import_optional_dependency() got an unexpected keyword argument 'errors'"
          ]
        }
      ],
      "metadata": {
        "colab": {
          "base_uri": "https://localhost:8080/",
          "height": 375
        },
        "id": "8kS6M90oDbBe",
        "outputId": "a1d35b5d-68f4-4412-f29c-49df9cfcc095"
      }
    },
    {
      "cell_type": "code",
      "execution_count": null,
      "source": [
        "# tdata.isnull().sum().head(5)\n",
        "tdata.fillna('', inplace=True)\n",
        "\n"
      ],
      "outputs": [],
      "metadata": {
        "id": "LQyXCGYNV2Cv"
      }
    },
    {
      "cell_type": "code",
      "execution_count": null,
      "source": [
        "\n"
      ],
      "outputs": [],
      "metadata": {
        "id": "F8J2RyidqURo"
      }
    },
    {
      "cell_type": "code",
      "execution_count": null,
      "source": [
        "tdata.drop(tdata[tdata['summary'] == ''].index, inplace = True)\n"
      ],
      "outputs": [],
      "metadata": {
        "id": "7tsS_DeWCCMd"
      }
    },
    {
      "cell_type": "code",
      "execution_count": null,
      "source": [
        "\n",
        "tdata['summary']= tdata['summary'].str.replace('\\d+', '')\n",
        "tdata['summary']= tdata['summary'].str.replace('[^\\w\\s]', '')"
      ],
      "outputs": [],
      "metadata": {
        "id": "FOzhLkc7otnR"
      }
    },
    {
      "cell_type": "code",
      "execution_count": null,
      "source": [
        "\n",
        "df= tdata.copy()\n",
        "df.head(2)\n"
      ],
      "outputs": [],
      "metadata": {
        "id": "tTW4RZfTV2Cx"
      }
    },
    {
      "cell_type": "code",
      "execution_count": null,
      "source": [
        "# df.isnull().sum()"
      ],
      "outputs": [],
      "metadata": {
        "id": "hwxw4i9oV2Cy"
      }
    },
    {
      "cell_type": "code",
      "execution_count": null,
      "source": [
        "# data to predict on after training\n",
        "need_predict = df[df['gname'] == 'Unknown']\n",
        "need_predict.shape"
      ],
      "outputs": [],
      "metadata": {
        "id": "BV3VW1MkV2Cz"
      }
    },
    {
      "cell_type": "code",
      "execution_count": null,
      "source": [
        "#remove prediction data from main dataframe\n",
        "df.drop(df[df['gname'] == 'Unknown'].index, inplace = True)\n"
      ],
      "outputs": [],
      "metadata": {
        "id": "KAuHnJv-Guky"
      }
    },
    {
      "cell_type": "code",
      "execution_count": null,
      "source": [
        "# reported groups\n",
        "len(df.gname.value_counts())"
      ],
      "outputs": [],
      "metadata": {
        "id": "pFIWd9apGuoS"
      }
    },
    {
      "cell_type": "code",
      "execution_count": null,
      "source": [
        "#create 10% holdback tp verify multiple models. \n",
        "#Don't touch until end!\n",
        "hold_back = df.sample(frac = 0.1)\n",
        "#hold_back.shape"
      ],
      "outputs": [],
      "metadata": {
        "id": "YjMmeeIPGuro"
      }
    },
    {
      "cell_type": "code",
      "execution_count": null,
      "source": [
        "df = df.drop(hold_back.index)\n",
        "df.shape"
      ],
      "outputs": [],
      "metadata": {
        "id": "0dObsdbxGuun"
      }
    },
    {
      "cell_type": "code",
      "execution_count": null,
      "source": [],
      "outputs": [],
      "metadata": {
        "id": "mU2cZSMeGuxb"
      }
    },
    {
      "cell_type": "code",
      "execution_count": null,
      "source": [],
      "outputs": [],
      "metadata": {
        "id": "z1uohrnSNbA9"
      }
    },
    {
      "cell_type": "code",
      "execution_count": null,
      "source": [],
      "outputs": [],
      "metadata": {
        "id": "daUQNLP5QfF7"
      }
    },
    {
      "cell_type": "markdown",
      "source": [
        "# Visuals"
      ],
      "metadata": {
        "id": "_gFg7jOQQLH3"
      }
    },
    {
      "cell_type": "markdown",
      "source": [
        "Top 30 active Terrorist Groups"
      ],
      "metadata": {
        "id": "ZY8B7QD5QX8l"
      }
    },
    {
      "cell_type": "code",
      "execution_count": null,
      "source": [
        "Groups = df['gname'].value_counts()\n",
        "GroupList = sorted(list(zip(Groups.values[:35],Groups.index[:35])),reverse=True)\n",
        "MostActive, Counts = zip(*GroupList)\n",
        "MostActive, Counts = list(MostActive), list(Counts)\n",
        "\n",
        "fig, ax = plt.subplots(figsize=(20,15))\n",
        "sns.barplot(x=MostActive, y=Counts, palette='icefire_r' )\n",
        "# sns.barplot(x=Counts,y=MostActive)\n",
        "ax.set_title('Most Active Terrorist Groups', fontsize=18)\n",
        "plt.xlabel(\"Attacks\", fontsize=15)\n",
        "plt.rcParams['font.family'] = 'DejaVu Sans'\n",
        "plt.yticks(fontsize=13)\n",
        "plt.xticks(np.arange(0, 7001, 200), rotation=60, fontsize=13)\n",
        "fig.patch.set_facecolor('aliceblue')\n",
        "ax.set_facecolor('aliceblue')\n",
        "\n",
        "plt.show()"
      ],
      "outputs": [],
      "metadata": {
        "id": "tcn8rP9nNbKz"
      }
    },
    {
      "cell_type": "markdown",
      "source": [
        "Total Attacks vs Year\n",
        "\n"
      ],
      "metadata": {
        "id": "bJdQUKapQvLs"
      }
    },
    {
      "cell_type": "code",
      "execution_count": null,
      "source": [
        "dfYear = list(zip(df.iyear.value_counts().index,df.iyear.value_counts().values))\n",
        "dfYear = sorted(dfYear)\n",
        "terrorByYear = []\n",
        "terrorByCounts = []\n",
        "for i in dfYear:\n",
        "    terrorByYear.append(i[0])\n",
        "    terrorByCounts.append(i[1])\n",
        "\n",
        "plt.figure(figsize=(18,7))\n",
        "sns.barplot(x=terrorByYear,y=terrorByCounts,palette=sns.color_palette(\"rocket\"))\n",
        "plt.xticks(rotation=90)\n",
        "plt.xlabel(\"Year\")\n",
        "plt.ylabel(\"# of Attacks\")\n",
        "plt.show()"
      ],
      "outputs": [
        {
          "output_type": "display_data",
          "data": {
            "text/plain": [
              "<Figure size 1296x504 with 1 Axes>"
            ],
            "image/png": "[encoded data removed]"
          },
          "metadata": {
            "tags": []
          }
        }
      ],
      "metadata": {
        "colab": {
          "base_uri": "https://localhost:8080/",
          "height": 458
        },
        "id": "tsmWq7wLNbOL",
        "outputId": "068d3a4e-bb01-41b5-9409-ad4d17fff92e"
      }
    },
    {
      "cell_type": "markdown",
      "source": [
        "Attacks By Year and Region"
      ],
      "metadata": {
        "id": "UXIWR5Q5ReWR"
      }
    },
    {
      "cell_type": "code",
      "execution_count": null,
      "source": [
        "regionYear = pd.crosstab(df.iyear,df.region_txt)\n",
        "regionYear.plot(color=sns.color_palette(\"bright\",12),grid=True)\n",
        "figure=plt.gcf()\n",
        "figure.set_size_inches(20,8)\n",
        "plt.xlabel(\"Year\")\n",
        "plt.ylabel(\"# of Attacks\")\n",
        "plt.title(\"Attacks by Year and Region\")\n",
        "plt.show()"
      ],
      "outputs": [
        {
          "output_type": "error",
          "ename": "TypeError",
          "evalue": "ignored",
          "traceback": [
            "\u001b[0;31m---------------------------------------------------------------------------\u001b[0m",
            "\u001b[0;31mTypeError\u001b[0m                                 Traceback (most recent call last)",
            "\u001b[0;32m<ipython-input-158-376e6db0336b>\u001b[0m in \u001b[0;36m<module>\u001b[0;34m()\u001b[0m\n\u001b[0;32m----> 1\u001b[0;31m \u001b[0mregionYear\u001b[0m \u001b[0;34m=\u001b[0m \u001b[0mpd\u001b[0m\u001b[0;34m.\u001b[0m\u001b[0mcrosstab\u001b[0m\u001b[0;34m(\u001b[0m\u001b[0mdf\u001b[0m\u001b[0;34m.\u001b[0m\u001b[0miyear\u001b[0m\u001b[0;34m,\u001b[0m\u001b[0mdf\u001b[0m\u001b[0;34m.\u001b[0m\u001b[0mregion_txt\u001b[0m\u001b[0;34m)\u001b[0m\u001b[0;34m\u001b[0m\u001b[0;34m\u001b[0m\u001b[0m\n\u001b[0m\u001b[1;32m      2\u001b[0m \u001b[0mregionYear\u001b[0m\u001b[0;34m.\u001b[0m\u001b[0mplot\u001b[0m\u001b[0;34m(\u001b[0m\u001b[0mcolor\u001b[0m\u001b[0;34m=\u001b[0m\u001b[0msns\u001b[0m\u001b[0;34m.\u001b[0m\u001b[0mcolor_palette\u001b[0m\u001b[0;34m(\u001b[0m\u001b[0;34m\"bright\"\u001b[0m\u001b[0;34m,\u001b[0m\u001b[0;36m12\u001b[0m\u001b[0;34m)\u001b[0m\u001b[0;34m,\u001b[0m\u001b[0mgrid\u001b[0m\u001b[0;34m=\u001b[0m\u001b[0;32mTrue\u001b[0m\u001b[0;34m)\u001b[0m\u001b[0;34m\u001b[0m\u001b[0;34m\u001b[0m\u001b[0m\n\u001b[1;32m      3\u001b[0m \u001b[0mfigure\u001b[0m\u001b[0;34m=\u001b[0m\u001b[0mplt\u001b[0m\u001b[0;34m.\u001b[0m\u001b[0mgcf\u001b[0m\u001b[0;34m(\u001b[0m\u001b[0;34m)\u001b[0m\u001b[0;34m\u001b[0m\u001b[0;34m\u001b[0m\u001b[0m\n\u001b[1;32m      4\u001b[0m \u001b[0mfigure\u001b[0m\u001b[0;34m.\u001b[0m\u001b[0mset_size_inches\u001b[0m\u001b[0;34m(\u001b[0m\u001b[0;36m20\u001b[0m\u001b[0;34m,\u001b[0m\u001b[0;36m8\u001b[0m\u001b[0;34m)\u001b[0m\u001b[0;34m\u001b[0m\u001b[0;34m\u001b[0m\u001b[0m\n\u001b[1;32m      5\u001b[0m \u001b[0mplt\u001b[0m\u001b[0;34m.\u001b[0m\u001b[0mxlabel\u001b[0m\u001b[0;34m(\u001b[0m\u001b[0;34m\"Year\"\u001b[0m\u001b[0;34m)\u001b[0m\u001b[0;34m\u001b[0m\u001b[0;34m\u001b[0m\u001b[0m\n",
            "\u001b[0;32m/usr/local/lib/python3.7/dist-packages/pandas/core/reshape/pivot.py\u001b[0m in \u001b[0;36mcrosstab\u001b[0;34m(index, columns, values, rownames, colnames, aggfunc, margins, margins_name, dropna, normalize)\u001b[0m\n\u001b[1;32m    621\u001b[0m     \u001b[0mc\u001b[0m      \u001b[0;36m0\u001b[0m  \u001b[0;36m0\u001b[0m  \u001b[0;36m0\u001b[0m\u001b[0;34m\u001b[0m\u001b[0;34m\u001b[0m\u001b[0m\n\u001b[1;32m    622\u001b[0m     \"\"\"\n\u001b[0;32m--> 623\u001b[0;31m     \u001b[0;32mif\u001b[0m \u001b[0mvalues\u001b[0m \u001b[0;32mis\u001b[0m \u001b[0;32mNone\u001b[0m \u001b[0;32mand\u001b[0m \u001b[0maggfunc\u001b[0m \u001b[0;32mis\u001b[0m \u001b[0;32mnot\u001b[0m \u001b[0;32mNone\u001b[0m\u001b[0;34m:\u001b[0m\u001b[0;34m\u001b[0m\u001b[0;34m\u001b[0m\u001b[0m\n\u001b[0m\u001b[1;32m    624\u001b[0m         \u001b[0;32mraise\u001b[0m \u001b[0mValueError\u001b[0m\u001b[0;34m(\u001b[0m\u001b[0;34m\"aggfunc cannot be used without values.\"\u001b[0m\u001b[0;34m)\u001b[0m\u001b[0;34m\u001b[0m\u001b[0;34m\u001b[0m\u001b[0m\n\u001b[1;32m    625\u001b[0m \u001b[0;34m\u001b[0m\u001b[0m\n",
            "\u001b[0;32m/usr/local/lib/python3.7/dist-packages/pandas/core/frame.py\u001b[0m in \u001b[0;36mpivot_table\u001b[0;34m(self, values, index, columns, aggfunc, fill_value, margins, dropna, margins_name, observed)\u001b[0m\n\u001b[1;32m   6834\u001b[0m             \u001b[0mresult\u001b[0m\u001b[0;34m.\u001b[0m\u001b[0mindex\u001b[0m \u001b[0;34m=\u001b[0m \u001b[0mresult\u001b[0m\u001b[0;34m.\u001b[0m\u001b[0mindex\u001b[0m\u001b[0;34m.\u001b[0m\u001b[0mreorder_levels\u001b[0m\u001b[0;34m(\u001b[0m\u001b[0morder\u001b[0m\u001b[0;34m)\u001b[0m\u001b[0;34m\u001b[0m\u001b[0;34m\u001b[0m\u001b[0m\n\u001b[1;32m   6835\u001b[0m         \u001b[0;32melse\u001b[0m\u001b[0;34m:\u001b[0m\u001b[0;34m\u001b[0m\u001b[0;34m\u001b[0m\u001b[0m\n\u001b[0;32m-> 6836\u001b[0;31m             \u001b[0;32massert\u001b[0m \u001b[0misinstance\u001b[0m\u001b[0;34m(\u001b[0m\u001b[0mresult\u001b[0m\u001b[0;34m.\u001b[0m\u001b[0mcolumns\u001b[0m\u001b[0;34m,\u001b[0m \u001b[0mMultiIndex\u001b[0m\u001b[0;34m)\u001b[0m\u001b[0;34m\u001b[0m\u001b[0;34m\u001b[0m\u001b[0m\n\u001b[0m\u001b[1;32m   6837\u001b[0m             \u001b[0mresult\u001b[0m\u001b[0;34m.\u001b[0m\u001b[0mcolumns\u001b[0m \u001b[0;34m=\u001b[0m \u001b[0mresult\u001b[0m\u001b[0;34m.\u001b[0m\u001b[0mcolumns\u001b[0m\u001b[0;34m.\u001b[0m\u001b[0mreorder_levels\u001b[0m\u001b[0;34m(\u001b[0m\u001b[0morder\u001b[0m\u001b[0;34m)\u001b[0m\u001b[0;34m\u001b[0m\u001b[0;34m\u001b[0m\u001b[0m\n\u001b[1;32m   6838\u001b[0m         \u001b[0;32mreturn\u001b[0m \u001b[0mresult\u001b[0m\u001b[0;34m\u001b[0m\u001b[0;34m\u001b[0m\u001b[0m\n",
            "\u001b[0;32m/usr/local/lib/python3.7/dist-packages/pandas/core/reshape/pivot.py\u001b[0m in \u001b[0;36mpivot_table\u001b[0;34m(data, values, index, columns, aggfunc, fill_value, margins, dropna, margins_name, observed)\u001b[0m\n\u001b[1;32m    112\u001b[0m     \u001b[0mdata\u001b[0m\u001b[0;34m:\u001b[0m \u001b[0mDataFrame\u001b[0m\u001b[0;34m,\u001b[0m\u001b[0;34m\u001b[0m\u001b[0;34m\u001b[0m\u001b[0m\n\u001b[1;32m    113\u001b[0m     \u001b[0mvalues\u001b[0m\u001b[0;34m,\u001b[0m\u001b[0;34m\u001b[0m\u001b[0;34m\u001b[0m\u001b[0m\n\u001b[0;32m--> 114\u001b[0;31m     \u001b[0mindex\u001b[0m\u001b[0;34m,\u001b[0m\u001b[0;34m\u001b[0m\u001b[0;34m\u001b[0m\u001b[0m\n\u001b[0m\u001b[1;32m    115\u001b[0m     \u001b[0mcolumns\u001b[0m\u001b[0;34m,\u001b[0m\u001b[0;34m\u001b[0m\u001b[0;34m\u001b[0m\u001b[0m\n\u001b[1;32m    116\u001b[0m     \u001b[0maggfunc\u001b[0m\u001b[0;34m:\u001b[0m \u001b[0mAggFuncTypeBase\u001b[0m \u001b[0;34m|\u001b[0m \u001b[0mAggFuncTypeDict\u001b[0m\u001b[0;34m,\u001b[0m\u001b[0;34m\u001b[0m\u001b[0;34m\u001b[0m\u001b[0m\n",
            "\u001b[0;32m/usr/local/lib/python3.7/dist-packages/pandas/core/frame.py\u001b[0m in \u001b[0;36mdropna\u001b[0;34m(self, axis, how, thresh, subset, inplace)\u001b[0m\n\u001b[1;32m   5012\u001b[0m         \u001b[0mRangeIndex\u001b[0m\u001b[0;34m(\u001b[0m\u001b[0mstart\u001b[0m\u001b[0;34m=\u001b[0m\u001b[0;36m0\u001b[0m\u001b[0;34m,\u001b[0m \u001b[0mstop\u001b[0m\u001b[0;34m=\u001b[0m\u001b[0;36m3\u001b[0m\u001b[0;34m,\u001b[0m \u001b[0mstep\u001b[0m\u001b[0;34m=\u001b[0m\u001b[0;36m1\u001b[0m\u001b[0;34m)\u001b[0m\u001b[0;34m\u001b[0m\u001b[0;34m\u001b[0m\u001b[0m\n\u001b[1;32m   5013\u001b[0m         \u001b[0;34m>>\u001b[0m\u001b[0;34m>\u001b[0m \u001b[0mdf\u001b[0m\u001b[0;34m.\u001b[0m\u001b[0mrename\u001b[0m\u001b[0;34m(\u001b[0m\u001b[0mindex\u001b[0m\u001b[0;34m=\u001b[0m\u001b[0mstr\u001b[0m\u001b[0;34m)\u001b[0m\u001b[0;34m.\u001b[0m\u001b[0mindex\u001b[0m\u001b[0;34m\u001b[0m\u001b[0;34m\u001b[0m\u001b[0m\n\u001b[0;32m-> 5014\u001b[0;31m         \u001b[0mIndex\u001b[0m\u001b[0;34m(\u001b[0m\u001b[0;34m[\u001b[0m\u001b[0;34m'0'\u001b[0m\u001b[0;34m,\u001b[0m \u001b[0;34m'1'\u001b[0m\u001b[0;34m,\u001b[0m \u001b[0;34m'2'\u001b[0m\u001b[0;34m]\u001b[0m\u001b[0;34m,\u001b[0m \u001b[0mdtype\u001b[0m\u001b[0;34m=\u001b[0m\u001b[0;34m'object'\u001b[0m\u001b[0;34m)\u001b[0m\u001b[0;34m\u001b[0m\u001b[0;34m\u001b[0m\u001b[0m\n\u001b[0m\u001b[1;32m   5015\u001b[0m \u001b[0;34m\u001b[0m\u001b[0m\n\u001b[1;32m   5016\u001b[0m         \u001b[0;34m>>\u001b[0m\u001b[0;34m>\u001b[0m \u001b[0mdf\u001b[0m\u001b[0;34m.\u001b[0m\u001b[0mrename\u001b[0m\u001b[0;34m(\u001b[0m\u001b[0mcolumns\u001b[0m\u001b[0;34m=\u001b[0m\u001b[0;34m{\u001b[0m\u001b[0;34m\"A\"\u001b[0m\u001b[0;34m:\u001b[0m \u001b[0;34m\"a\"\u001b[0m\u001b[0;34m,\u001b[0m \u001b[0;34m\"B\"\u001b[0m\u001b[0;34m:\u001b[0m \u001b[0;34m\"b\"\u001b[0m\u001b[0;34m,\u001b[0m \u001b[0;34m\"C\"\u001b[0m\u001b[0;34m:\u001b[0m \u001b[0;34m\"c\"\u001b[0m\u001b[0;34m}\u001b[0m\u001b[0;34m,\u001b[0m \u001b[0merrors\u001b[0m\u001b[0;34m=\u001b[0m\u001b[0;34m\"raise\"\u001b[0m\u001b[0;34m)\u001b[0m\u001b[0;34m\u001b[0m\u001b[0;34m\u001b[0m\u001b[0m\n",
            "\u001b[0;32m/usr/local/lib/python3.7/dist-packages/pandas/core/ops/common.py\u001b[0m in \u001b[0;36mnew_method\u001b[0;34m(self, other)\u001b[0m\n\u001b[1;32m     63\u001b[0m                     \u001b[0;32mbreak\u001b[0m\u001b[0;34m\u001b[0m\u001b[0;34m\u001b[0m\u001b[0m\n\u001b[1;32m     64\u001b[0m                 \u001b[0;32mif\u001b[0m \u001b[0misinstance\u001b[0m\u001b[0;34m(\u001b[0m\u001b[0mother\u001b[0m\u001b[0;34m,\u001b[0m \u001b[0mcls\u001b[0m\u001b[0;34m)\u001b[0m\u001b[0;34m:\u001b[0m\u001b[0;34m\u001b[0m\u001b[0;34m\u001b[0m\u001b[0m\n\u001b[0;32m---> 65\u001b[0;31m                     \u001b[0;32mreturn\u001b[0m \u001b[0mNotImplemented\u001b[0m\u001b[0;34m\u001b[0m\u001b[0;34m\u001b[0m\u001b[0m\n\u001b[0m\u001b[1;32m     66\u001b[0m \u001b[0;34m\u001b[0m\u001b[0m\n\u001b[1;32m     67\u001b[0m         \u001b[0mother\u001b[0m \u001b[0;34m=\u001b[0m \u001b[0mitem_from_zerodim\u001b[0m\u001b[0;34m(\u001b[0m\u001b[0mother\u001b[0m\u001b[0;34m)\u001b[0m\u001b[0;34m\u001b[0m\u001b[0;34m\u001b[0m\u001b[0m\n",
            "\u001b[0;32m/usr/local/lib/python3.7/dist-packages/pandas/core/ops/__init__.py\u001b[0m in \u001b[0;36mwrapper\u001b[0;34m(self, other)\u001b[0m\n\u001b[1;32m    368\u001b[0m     \u001b[0;31m#  to avoid constructing two potentially large/sparse DataFrames\u001b[0m\u001b[0;34m\u001b[0m\u001b[0;34m\u001b[0m\u001b[0;34m\u001b[0m\u001b[0m\n\u001b[1;32m    369\u001b[0m     join_columns, _, _ = left.columns.join(\n\u001b[0;32m--> 370\u001b[0;31m         \u001b[0mright\u001b[0m\u001b[0;34m.\u001b[0m\u001b[0mcolumns\u001b[0m\u001b[0;34m,\u001b[0m \u001b[0mhow\u001b[0m\u001b[0;34m=\u001b[0m\u001b[0;34m\"outer\"\u001b[0m\u001b[0;34m,\u001b[0m \u001b[0mlevel\u001b[0m\u001b[0;34m=\u001b[0m\u001b[0;32mNone\u001b[0m\u001b[0;34m,\u001b[0m \u001b[0mreturn_indexers\u001b[0m\u001b[0;34m=\u001b[0m\u001b[0;32mTrue\u001b[0m\u001b[0;34m\u001b[0m\u001b[0;34m\u001b[0m\u001b[0m\n\u001b[0m\u001b[1;32m    371\u001b[0m     )\n\u001b[1;32m    372\u001b[0m \u001b[0;34m\u001b[0m\u001b[0m\n",
            "\u001b[0;32m/usr/local/lib/python3.7/dist-packages/pandas/core/ops/array_ops.py\u001b[0m in \u001b[0;36mcomparison_op\u001b[0;34m(left, right, op)\u001b[0m\n\u001b[1;32m    249\u001b[0m     \u001b[0mrvalues\u001b[0m \u001b[0;34m=\u001b[0m \u001b[0mensure_wrapped_if_datetimelike\u001b[0m\u001b[0;34m(\u001b[0m\u001b[0mright\u001b[0m\u001b[0;34m)\u001b[0m\u001b[0;34m\u001b[0m\u001b[0;34m\u001b[0m\u001b[0m\n\u001b[1;32m    250\u001b[0m \u001b[0;34m\u001b[0m\u001b[0m\n\u001b[0;32m--> 251\u001b[0;31m     \u001b[0mrvalues\u001b[0m \u001b[0;34m=\u001b[0m \u001b[0mlib\u001b[0m\u001b[0;34m.\u001b[0m\u001b[0mitem_from_zerodim\u001b[0m\u001b[0;34m(\u001b[0m\u001b[0mrvalues\u001b[0m\u001b[0;34m)\u001b[0m\u001b[0;34m\u001b[0m\u001b[0;34m\u001b[0m\u001b[0m\n\u001b[0m\u001b[1;32m    252\u001b[0m     \u001b[0;32mif\u001b[0m \u001b[0misinstance\u001b[0m\u001b[0;34m(\u001b[0m\u001b[0mrvalues\u001b[0m\u001b[0;34m,\u001b[0m \u001b[0mlist\u001b[0m\u001b[0;34m)\u001b[0m\u001b[0;34m:\u001b[0m\u001b[0;34m\u001b[0m\u001b[0;34m\u001b[0m\u001b[0m\n\u001b[1;32m    253\u001b[0m         \u001b[0;31m# TODO: same for tuples?\u001b[0m\u001b[0;34m\u001b[0m\u001b[0;34m\u001b[0m\u001b[0;34m\u001b[0m\u001b[0m\n",
            "\u001b[0;32m/usr/local/lib/python3.7/dist-packages/pandas/core/ops/array_ops.py\u001b[0m in \u001b[0;36mna_arithmetic_op\u001b[0;34m(left, right, op, is_cmp)\u001b[0m\n\u001b[1;32m    138\u001b[0m \u001b[0;32mdef\u001b[0m \u001b[0m_na_arithmetic_op\u001b[0m\u001b[0;34m(\u001b[0m\u001b[0mleft\u001b[0m\u001b[0;34m,\u001b[0m \u001b[0mright\u001b[0m\u001b[0;34m,\u001b[0m \u001b[0mop\u001b[0m\u001b[0;34m,\u001b[0m \u001b[0mis_cmp\u001b[0m\u001b[0;34m:\u001b[0m \u001b[0mbool\u001b[0m \u001b[0;34m=\u001b[0m \u001b[0;32mFalse\u001b[0m\u001b[0;34m)\u001b[0m\u001b[0;34m:\u001b[0m\u001b[0;34m\u001b[0m\u001b[0;34m\u001b[0m\u001b[0m\n\u001b[1;32m    139\u001b[0m     \"\"\"\n\u001b[0;32m--> 140\u001b[0;31m     \u001b[0mReturn\u001b[0m \u001b[0mthe\u001b[0m \u001b[0mresult\u001b[0m \u001b[0mof\u001b[0m \u001b[0mevaluating\u001b[0m \u001b[0mop\u001b[0m \u001b[0mon\u001b[0m \u001b[0mthe\u001b[0m \u001b[0mpassed\u001b[0m \u001b[0;32min\u001b[0m \u001b[0mvalues\u001b[0m\u001b[0;34m.\u001b[0m\u001b[0;34m\u001b[0m\u001b[0;34m\u001b[0m\u001b[0m\n\u001b[0m\u001b[1;32m    141\u001b[0m \u001b[0;34m\u001b[0m\u001b[0m\n\u001b[1;32m    142\u001b[0m     \u001b[0mIf\u001b[0m \u001b[0mnative\u001b[0m \u001b[0mtypes\u001b[0m \u001b[0mare\u001b[0m \u001b[0;32mnot\u001b[0m \u001b[0mcompatible\u001b[0m\u001b[0;34m,\u001b[0m \u001b[0;32mtry\u001b[0m \u001b[0mcoercion\u001b[0m \u001b[0mto\u001b[0m \u001b[0mobject\u001b[0m \u001b[0mdtype\u001b[0m\u001b[0;34m.\u001b[0m\u001b[0;34m\u001b[0m\u001b[0;34m\u001b[0m\u001b[0m\n",
            "\u001b[0;32m/usr/local/lib/python3.7/dist-packages/pandas/core/computation/expressions.py\u001b[0m in \u001b[0;36m<module>\u001b[0;34m()\u001b[0m\n\u001b[1;32m     17\u001b[0m \u001b[0;32mfrom\u001b[0m \u001b[0mpandas\u001b[0m\u001b[0;34m.\u001b[0m\u001b[0m_typing\u001b[0m \u001b[0;32mimport\u001b[0m \u001b[0mFuncType\u001b[0m\u001b[0;34m\u001b[0m\u001b[0;34m\u001b[0m\u001b[0m\n\u001b[1;32m     18\u001b[0m \u001b[0;34m\u001b[0m\u001b[0m\n\u001b[0;32m---> 19\u001b[0;31m \u001b[0;32mfrom\u001b[0m \u001b[0mpandas\u001b[0m\u001b[0;34m.\u001b[0m\u001b[0mcore\u001b[0m\u001b[0;34m.\u001b[0m\u001b[0mcomputation\u001b[0m\u001b[0;34m.\u001b[0m\u001b[0mcheck\u001b[0m \u001b[0;32mimport\u001b[0m \u001b[0mNUMEXPR_INSTALLED\u001b[0m\u001b[0;34m\u001b[0m\u001b[0;34m\u001b[0m\u001b[0m\n\u001b[0m\u001b[1;32m     20\u001b[0m \u001b[0;32mfrom\u001b[0m \u001b[0mpandas\u001b[0m\u001b[0;34m.\u001b[0m\u001b[0mcore\u001b[0m\u001b[0;34m.\u001b[0m\u001b[0mops\u001b[0m \u001b[0;32mimport\u001b[0m \u001b[0mroperator\u001b[0m\u001b[0;34m\u001b[0m\u001b[0;34m\u001b[0m\u001b[0m\n\u001b[1;32m     21\u001b[0m \u001b[0;34m\u001b[0m\u001b[0m\n",
            "\u001b[0;32m/usr/local/lib/python3.7/dist-packages/pandas/core/computation/check.py\u001b[0m in \u001b[0;36m<module>\u001b[0;34m()\u001b[0m\n\u001b[1;32m      1\u001b[0m \u001b[0;32mfrom\u001b[0m \u001b[0mpandas\u001b[0m\u001b[0;34m.\u001b[0m\u001b[0mcompat\u001b[0m\u001b[0;34m.\u001b[0m\u001b[0m_optional\u001b[0m \u001b[0;32mimport\u001b[0m \u001b[0mimport_optional_dependency\u001b[0m\u001b[0;34m\u001b[0m\u001b[0;34m\u001b[0m\u001b[0m\n\u001b[1;32m      2\u001b[0m \u001b[0;34m\u001b[0m\u001b[0m\n\u001b[0;32m----> 3\u001b[0;31m \u001b[0mne\u001b[0m \u001b[0;34m=\u001b[0m \u001b[0mimport_optional_dependency\u001b[0m\u001b[0;34m(\u001b[0m\u001b[0;34m\"numexpr\"\u001b[0m\u001b[0;34m,\u001b[0m \u001b[0merrors\u001b[0m\u001b[0;34m=\u001b[0m\u001b[0;34m\"warn\"\u001b[0m\u001b[0;34m)\u001b[0m\u001b[0;34m\u001b[0m\u001b[0;34m\u001b[0m\u001b[0m\n\u001b[0m\u001b[1;32m      4\u001b[0m \u001b[0mNUMEXPR_INSTALLED\u001b[0m \u001b[0;34m=\u001b[0m \u001b[0mne\u001b[0m \u001b[0;32mis\u001b[0m \u001b[0;32mnot\u001b[0m \u001b[0;32mNone\u001b[0m\u001b[0;34m\u001b[0m\u001b[0;34m\u001b[0m\u001b[0m\n\u001b[1;32m      5\u001b[0m \u001b[0;32mif\u001b[0m \u001b[0mNUMEXPR_INSTALLED\u001b[0m\u001b[0;34m:\u001b[0m\u001b[0;34m\u001b[0m\u001b[0;34m\u001b[0m\u001b[0m\n",
            "\u001b[0;31mTypeError\u001b[0m: import_optional_dependency() got an unexpected keyword argument 'errors'"
          ]
        }
      ],
      "metadata": {
        "colab": {
          "base_uri": "https://localhost:8080/",
          "height": 375
        },
        "id": "6qZNLXWhQOcK",
        "outputId": "0b657b40-eefe-4597-a7fb-baa038bbf7bb"
      }
    },
    {
      "cell_type": "code",
      "execution_count": null,
      "source": [],
      "outputs": [],
      "metadata": {
        "id": "DicKYtoUQOfL"
      }
    },
    {
      "cell_type": "markdown",
      "source": [
        "Heat Map"
      ],
      "metadata": {
        "id": "1NX7irfuSEcw"
      }
    },
    {
      "cell_type": "code",
      "execution_count": null,
      "source": [],
      "outputs": [],
      "metadata": {
        "id": "yli6r9Y7QOhw"
      }
    },
    {
      "cell_type": "code",
      "execution_count": null,
      "source": [
        "# country = tdata['country_txt']\n",
        "# country_weapon = tdata.groupby(by='weaptype1_txt', as_index=False).count().sort_values(by='eventid',ascending=False).iloc[:,:2]\n",
        "                                                  \n",
        "                                                                                                                \n",
        "# sns.barplot(x='weaptype1_txt', y='eventid', data=country_weapon, ax=ax, ci=None)\n",
        "# ax[1, 1].set_xticklabels(ax[1, 1].get_xticklabels(), rotation=90)\n",
        "# ax[1, 1].set_xlabel('')\n",
        "# ax[1, 1].set_ylabel('Count')\n",
        "# format_spines(ax[1, 1], right_border=False)\n",
        "# ax[1, 1].set_title(f'{country_name} Weapons Used in Attacks')\n",
        "\n",
        "# plt.suptitle(f'Terrorism Analysis in {country_name} between 1970 and 2017', size=16)\n",
        "# plt.tight_layout()\n",
        "# plt.subplots_adjust(top=0.90)\n",
        "# plt.show()"
      ],
      "outputs": [],
      "metadata": {
        "id": "b6gWDqsBQOkN"
      }
    },
    {
      "cell_type": "code",
      "execution_count": null,
      "source": [
        "# pandas_profiling.ProfileReport(df)"
      ],
      "outputs": [],
      "metadata": {
        "id": "ZSyeT1IkQOnP"
      }
    },
    {
      "cell_type": "markdown",
      "source": [
        "# Models"
      ],
      "metadata": {
        "id": "p8IZE_AzVk0U"
      }
    },
    {
      "cell_type": "code",
      "execution_count": null,
      "source": [
        "#create train test split from df\n",
        "y = df['gname']\n",
        "X = df.drop(columns= ['eventid','longitude', 'latitude', 'gname'])\n",
        "\n",
        "X_train, X_test, y_train, y_test = train_test_split(X, y, test_size=.30, random_state=42)"
      ],
      "outputs": [],
      "metadata": {
        "id": "y1HlzOnXZzRj"
      }
    },
    {
      "cell_type": "code",
      "execution_count": null,
      "source": [],
      "outputs": [],
      "metadata": {
        "id": "BshVqZoURzXh"
      }
    },
    {
      "cell_type": "code",
      "execution_count": null,
      "source": [],
      "outputs": [],
      "metadata": {
        "id": "d6VSX7zO3VL7"
      }
    },
    {
      "cell_type": "markdown",
      "source": [
        "## Tensorflow"
      ],
      "metadata": {
        "id": "z6zlRdjSYqNM"
      }
    },
    {
      "cell_type": "code",
      "execution_count": null,
      "source": [
        "data = df[['summary', 'gname']]\n",
        "ds = tf.data.Dataset.from_tensor_slices(dict(data))\n",
        "\n",
        "train, test = train_test_split(data, test_size=0.4)\n",
        "test, val = train_test_split(test, test_size=0.5)\n",
        "print(len(train), 'train examples')\n",
        "print(len(val), 'validation examples')\n",
        "print(len(test), 'test examples')\n",
        "print(len(data))"
      ],
      "outputs": [],
      "metadata": {
        "id": "2wNNelZEw_cF"
      }
    },
    {
      "cell_type": "code",
      "execution_count": null,
      "source": [
        "data = df[['summary', 'gname']]\n",
        "# ds = tf.data.Dataset.from_tensor_slices(dict(data))\n",
        "\n",
        "# train, test = train_test_split(data, test_size=0.4)\n",
        "# test, val = train_test_split(test, test_size=0.5)\n",
        "# print(len(train), 'train examples')\n",
        "# print(len(val), 'validation examples')\n",
        "# print(len(test), 'test examples')\n",
        "# print(len(data))\n",
        "\n",
        "# train_ds = tf.data.Dataset.from_tensor_slices((train['summary'].values, train['gname'].values))\n",
        "# train_ds= tf.data.Dataset.from_tensor_slices(dict(train))\n",
        "# val_ds= tf.data.Dataset.from_tensor_slices(dict(val))\n",
        "# test_ds = tf.data.Dataset.from_tensor_slices(dict(test))\n",
        "# train_ds = tf.data.Dataset.from_tensor_slices((train['summary'].values, train['gname'].values))\n",
        "# print(train)\n",
        "\n",
        "# max_features = 23502\n",
        "# max_len  = 150\n",
        "# embedding_dims = 100\n",
        "# tokenizer = tf.keras.preprocessing.text.Tokenizer(num_words=max_features, lower=True)\n",
        "# GLOVE_EMBEDDING =  \"glove.6B.100d.txt\"\n",
        "\n"
      ],
      "outputs": [],
      "metadata": {
        "id": "wnI9CbLuQOpJ"
      }
    },
    {
      "cell_type": "code",
      "execution_count": null,
      "source": [
        "#Data prep\n",
        "# x_train = train['summary'].str.lower()\n",
        "# y_train = train['gname'].values"
      ],
      "outputs": [],
      "metadata": {
        "id": "a2nvFHQIPFwN"
      }
    },
    {
      "cell_type": "markdown",
      "source": [],
      "metadata": {
        "id": "ZqO50OHf67UX"
      }
    },
    {
      "cell_type": "code",
      "execution_count": null,
      "source": [
        "# tokenizer.fit_on_texts(x_train)\n",
        "\n",
        "# x_train =tokenizer.texts_to_sequences(x_train)\n",
        "# x_train = tf.keras.preprocessing.sequence.pad_sequences(x_train, maxlen=max_len)"
      ],
      "outputs": [],
      "metadata": {
        "id": "wE242WxWcO8o"
      }
    },
    {
      "cell_type": "code",
      "execution_count": null,
      "source": [],
      "outputs": [],
      "metadata": {
        "id": "KNdeNprpuJku"
      }
    },
    {
      "cell_type": "code",
      "execution_count": null,
      "source": [
        "# #create embedding matrix\n",
        "# embeddings_index = {}\n",
        "\n",
        "# with open(GLOVE_EMBEDDING, encoding='utf8') as f:\n",
        "#     for line in f:\n",
        "#         values = line.rstrip().rsplit(' ')\n",
        "#         word = values[0]\n",
        "#         embed = np.asarray(values[1:], dtype='float32')\n",
        "#         embeddings_index[word] = embed\n",
        "\n",
        "# word_index = tokenizer.word_index\n",
        "\n",
        "# num_words = min(max_features, len(word_index) + 1)\n",
        "\n",
        "# embedding_matrix = np.zeros((num_words, embedding_dims), dtype='float32')\n",
        "\n",
        "# for word, i in word_index.items():\n",
        "\n",
        "#     if i >= max_features:\n",
        "#         continue\n",
        "\n",
        "#     embedding_vector = embeddings_index.get(word)\n",
        "\n",
        "#     if embedding_vector is not None:\n",
        "#         embedding_matrix[i] = embedding_vector"
      ],
      "outputs": [],
      "metadata": {
        "id": "qCoPYlb6eENE"
      }
    },
    {
      "cell_type": "code",
      "execution_count": null,
      "source": [],
      "outputs": [],
      "metadata": {
        "id": "qpdWu5AD4Sco"
      }
    },
    {
      "cell_type": "code",
      "execution_count": null,
      "source": [
        "# input = tf.keras.layers.Input(shape=(max_len,))\n",
        "\n",
        "# x = tf.keras.layers.Embedding(max_features, embedding_dims, weights=[embedding_matrix], trainable=False)(input)"
      ],
      "outputs": [],
      "metadata": {
        "id": "TK8D4kfTwhYE"
      }
    },
    {
      "cell_type": "code",
      "execution_count": null,
      "source": [
        "# #Biderictional Layer\n",
        "\n",
        "# x = tf.keras.layers.Bidirectional(tf.keras.layers.GRU(32, return_sequences=True, dropout=0.1, recurrent_dropout=0.1))(x)\n",
        "\n",
        "# x = tf.keras.layers.Conv1D(64, kernel_size=3, padding=\"valid\", kernel_initializer=\"glorot_uniform\")(x)\n",
        "\n",
        "# avg_pool = tf.keras.layers.GlobalAveragePooling1D()(x)\n",
        "\n",
        "# max_pool = tf.keras.layers.GlobalMaxPooling1D()(x)\n",
        "\n",
        "# x = tf.keras.layers.concatenate([avg_pool, max_pool])\n",
        "\n",
        "# preds = tf.keras.layers.Dense(6, activation=\"sigmoid\")(x)\n",
        "\n",
        "# x.summary()\n",
        "\n",
        "# model.compile(loss='binary_crossentropy', optimizer=tf.keras.optimizers.Adam(lr=1e-3), metrics=['accuracy'])\n"
      ],
      "outputs": [],
      "metadata": {
        "id": "6rBXjMeVpsOn"
      }
    },
    {
      "cell_type": "code",
      "execution_count": null,
      "source": [],
      "outputs": [],
      "metadata": {
        "id": "fvNlSXm1ySqI"
      }
    },
    {
      "cell_type": "code",
      "execution_count": null,
      "source": [],
      "outputs": [],
      "metadata": {
        "id": "gLSEPvPvySof"
      }
    },
    {
      "cell_type": "code",
      "execution_count": null,
      "source": [
        "# x_train"
      ],
      "outputs": [],
      "metadata": {
        "id": "4bgsKvzTySlC"
      }
    },
    {
      "cell_type": "code",
      "execution_count": null,
      "source": [],
      "outputs": [],
      "metadata": {
        "id": "4jpmqq4mySiO"
      }
    },
    {
      "cell_type": "code",
      "execution_count": null,
      "source": [],
      "outputs": [],
      "metadata": {
        "id": "tjOCXT_dySZS"
      }
    },
    {
      "cell_type": "code",
      "execution_count": null,
      "source": [
        "#convert the pandas object to a tensor\n",
        "# train=tf.convert_to_tensor(train)\n",
        "# type(data)\n",
        "# train_data, test_data = tfds(train, split=[\"train\", \"test\"], \n",
        "#                                   batch_size=-1, as_supervised=True)\n",
        "# train_ds = tf.constant(([train['summary'], train['gname']]))\n",
        "# x_train= tf.data.Dataset.from_tensor_slices(dict(x_train))\n",
        "# train_examples, train_labels = tfds.as_numpy(x_train)"
      ],
      "outputs": [],
      "metadata": {
        "id": "fOZYgegQRCbC"
      }
    },
    {
      "cell_type": "code",
      "execution_count": null,
      "source": [
        "# for feat, targ in train.take(5):\n",
        "#   print ('Features: {}, Target: {}'.format(feat, targ))"
      ],
      "outputs": [],
      "metadata": {
        "id": "vVYyZfM5MrHx"
      }
    },
    {
      "cell_type": "code",
      "execution_count": null,
      "source": [
        "# embed = hub.load(\"https://tfhub.dev/google/nnlm-en-dim50/2\")\n",
        "# embeddings = embed(train_examples)"
      ],
      "outputs": [],
      "metadata": {
        "id": "0drMmFjLzjvQ"
      }
    },
    {
      "cell_type": "code",
      "execution_count": null,
      "source": [
        "# print(embeddings.shape, embeddings.dtype)"
      ],
      "outputs": [],
      "metadata": {
        "id": "9xAaML4W75mX"
      }
    },
    {
      "cell_type": "code",
      "execution_count": null,
      "source": [
        "# # build a model\n",
        "# model = tf.keras.Sequential()\n",
        "# model.add(hub_layer)\n",
        "# model.add(tf.keras.layers.Dense(16, activation='relu'))\n",
        "# model.add(tf.keras.layers.Dense(1))\n",
        "\n",
        "# model.summary()"
      ],
      "outputs": [],
      "metadata": {
        "id": "S3lsQVPGzjst"
      }
    },
    {
      "cell_type": "code",
      "execution_count": null,
      "source": [
        "# # loss function and optimizer\n",
        "\n",
        "# model.compile(optimizer = 'adam',\n",
        "#               loss=tf.keras.losses.BinaryCrossentropy(from_logits=True),\n",
        "#               metrics=['accuracy'])"
      ],
      "outputs": [],
      "metadata": {
        "id": "CGaMbTZLzjqS"
      }
    },
    {
      "cell_type": "code",
      "execution_count": null,
      "source": [
        "# mod_train = model.fit()(train_data.shuffle(10000).batch(512), \n",
        "#                         epochs =10\n",
        "#                         validation_data = validation_data.batch(512),\n",
        "#                         verbose=1)"
      ],
      "outputs": [],
      "metadata": {
        "id": "VAqpIU8ozjnm"
      }
    },
    {
      "cell_type": "code",
      "execution_count": null,
      "source": [
        "# results = model.evaluate(test_data.batch(512), verbose=2)\n",
        "\n",
        "# for name, value in zip(model.metric_names, results):\n",
        "#     print(\"%s: %.3f\" % (name, value))"
      ],
      "outputs": [],
      "metadata": {
        "id": "8v0lykbizjka"
      }
    },
    {
      "cell_type": "code",
      "execution_count": null,
      "source": [],
      "outputs": [],
      "metadata": {
        "id": "vY3rOxu8zjb0"
      }
    },
    {
      "cell_type": "code",
      "execution_count": null,
      "source": [],
      "outputs": [],
      "metadata": {
        "id": "O7_8PzonGu0O"
      }
    },
    {
      "cell_type": "markdown",
      "source": [
        "## Random Forest "
      ],
      "metadata": {
        "id": "d6HpyiJFmIvy"
      }
    },
    {
      "cell_type": "code",
      "execution_count": null,
      "source": [
        "\n",
        "rfd = X_train['summary']\n",
        "pred_rfd = X_test['summary']\n",
        "y_train = y_train\n",
        "y_test = y_test\n",
        "#vectorize summary data\n",
        "vectorizer = CountVectorizer(lowercase=True, stop_words='english', max_features = 4000)\n",
        "vectorizer.fit(rfd)\n",
        "\n",
        "RFX_train = vectorizer.transform(rfd)\n",
        "RFX_test = vectorizer.transform(pred_rfd)\n"
      ],
      "outputs": [],
      "metadata": {
        "id": "hLKBAJwnGu23"
      }
    },
    {
      "cell_type": "code",
      "execution_count": null,
      "source": [
        "RFX_train.shape\n",
        "\n",
        "# 4000 - 0.7897053195560658"
      ],
      "outputs": [],
      "metadata": {
        "id": "YnzDv6sjAFeY"
      }
    },
    {
      "cell_type": "code",
      "execution_count": null,
      "source": [
        "RFC = RandomForestClassifier(n_estimators=110, max_depth=50)\n",
        "\n",
        "RFC.fit(RFX_train, y_train)"
      ],
      "outputs": [],
      "metadata": {
        "id": "gHA1kqTzAA9X"
      }
    },
    {
      "cell_type": "code",
      "execution_count": null,
      "source": [
        "pred = RFC.predict(RFX_test)"
      ],
      "outputs": [],
      "metadata": {
        "id": "w7tFIkOnFLsD"
      }
    },
    {
      "cell_type": "code",
      "execution_count": null,
      "source": [
        "print('Accuracy:', metrics.accuracy_score(y_test, pred))"
      ],
      "outputs": [],
      "metadata": {
        "id": "dgdSHd-tLRMm"
      }
    },
    {
      "cell_type": "code",
      "execution_count": null,
      "source": [
        "# RFC.predict()"
      ],
      "outputs": [],
      "metadata": {
        "id": "ZOsVYP3BGu5J"
      }
    },
    {
      "cell_type": "code",
      "execution_count": null,
      "source": [
        "parameters = {'max_depth' : np.arange(1, 12),\n",
        "             'min_samples_leaf' : np.arange(5,95,10)}\n",
        "             \n",
        "scorer = make_scorer(log_loss,\n",
        "                     greater_is_better=False,\n",
        "                     needs_proba=True)\n",
        "clf = GridSearchCV(RFC,\n",
        "                   parameters,\n",
        "                   cv=10,\n",
        "                   scoring=scorer).fit(RFX_train,y_train)\n",
        "\n"
      ],
      "outputs": [],
      "metadata": {
        "colab": {
          "background_save": true
        },
        "id": "ZEcQ2r8AA4gg"
      }
    },
    {
      "cell_type": "code",
      "execution_count": null,
      "source": [
        "# Train and fit model                                                   \n",
        "# rf = RandomForestClassifier(n_estimators=1000,\n",
        "#                            max_features='auto',\n",
        "#                            random_state=0)\n",
        "# rf.fit(RFX_train, y_train)\n",
        "                                     \n",
        "# Test Prediction\n",
        "# pred = rf.predict(RFX_test)\n",
        "\n",
        "print(f\"accuracy = {RFC.score(RFX_test, y_test):.3f}\")\n",
        "\n",
        "cm = confusion_matrix(y_test, pred, labels=clf.classes_)\n",
        "disp = ConfusionMatrixDisplay(confusion_matrix=cm, display_labels=clf.classes_)\n",
        "disp.plot();"
      ],
      "outputs": [],
      "metadata": {
        "id": "fyoIf5XUiNIY"
      }
    },
    {
      "cell_type": "markdown",
      "source": [
        "## Multinomial Naive Bayes Classifier "
      ],
      "metadata": {
        "id": "HzW3jTc4Se70"
      }
    },
    {
      "cell_type": "code",
      "execution_count": null,
      "source": [
        "\n",
        "nbd_train = X_train['summary']\n",
        "nbd_test = X_test['summary']\n",
        "nby_train = y_train\n",
        "nby_test = y_test\n",
        "\n",
        "\n",
        "#vectorize summary data and transform to document term matrix\n",
        "vectorizer = CountVectorizer(lowercase=True, stop_words='english')\n",
        "vectorizer.fit(nbd_train)\n",
        "\n",
        "nbd_train_dtm = vectorizer.transform(nbd_train)"
      ],
      "outputs": [],
      "metadata": {
        "id": "tEGO_IzgSgQ3"
      }
    },
    {
      "cell_type": "code",
      "execution_count": null,
      "source": [
        "# #check out data\n",
        "# vectorizer.get_feature_names()"
      ],
      "outputs": [],
      "metadata": {
        "id": "CAEkNIocSg4m"
      }
    },
    {
      "cell_type": "code",
      "execution_count": null,
      "source": [
        "# prep test data\n",
        "nbd_test_dtm = vectorizer.transform(nbd_test)\n",
        "nbd_test_dtm"
      ],
      "outputs": [],
      "metadata": {
        "id": "uZ0mdiWyVqoK"
      }
    },
    {
      "cell_type": "code",
      "execution_count": null,
      "source": [
        "#finally get to build the model\n",
        "nb=MultinomialNB()\n",
        "\n",
        "\n",
        "%time nb.fit(nbd_train_dtm, nby_train )"
      ],
      "outputs": [],
      "metadata": {
        "id": "_xmlm8vjgHbN"
      }
    },
    {
      "cell_type": "code",
      "execution_count": null,
      "source": [
        "# make presiction with test data\n",
        "prediction = nb.predict(nbd_test_dtm)"
      ],
      "outputs": [],
      "metadata": {
        "id": "mLqM3cxMgHY8"
      }
    },
    {
      "cell_type": "code",
      "execution_count": null,
      "source": [
        "metrics.accuracy_score(nby_test, prediction)"
      ],
      "outputs": [],
      "metadata": {
        "id": "K6YMsNeAgHVy"
      }
    },
    {
      "cell_type": "code",
      "execution_count": null,
      "source": [],
      "outputs": [],
      "metadata": {
        "id": "WuqFCQAggHSR"
      }
    },
    {
      "cell_type": "code",
      "execution_count": null,
      "source": [
        "# examine class distribution\n",
        "print(y_test.value_counts())\n",
        "# there is a majority class of 0 here, hence the classes are skewed\n",
        "\n",
        "# calculate null accuracy (for multi-class classification problems)\n",
        "# .head(1) assesses the value 1208\n",
        "null_accuracy = y_test.value_counts().head(1) / len(y_test)\n",
        "print('Null accuracy:', null_accuracy)\n",
        "\n",
        "# Manual calculation of null accuracy by always predicting the majority class\n",
        "print('Manual null accuracy:',(1208 / (1208 + 185)))"
      ],
      "outputs": [],
      "metadata": {
        "id": "IooGVbA7gHEI"
      }
    },
    {
      "cell_type": "code",
      "execution_count": null,
      "source": [
        "# print the confusion matrix\n",
        "metrics.confusion_matrix(y_test, y_pred_class)"
      ],
      "outputs": [],
      "metadata": {
        "id": "gicAbrV2u98q"
      }
    },
    {
      "cell_type": "code",
      "execution_count": null,
      "source": [
        "# print message text for the false positives (ham incorrectly classified as spam)\n",
        "\n",
        "X_test[y_pred_class > y_test]\n",
        "\n",
        "# alternative less elegant but easier to understand\n",
        "# X_test[(y_pred_class==1) & (y_test==0)]"
      ],
      "outputs": [],
      "metadata": {
        "id": "7imUVuACu91O"
      }
    },
    {
      "cell_type": "code",
      "execution_count": null,
      "source": [
        "# print message text for the false negatives (spam incorrectly classified as ham)\n",
        "\n",
        "X_test[y_pred_class < y_test]\n",
        "# alternative less elegant but easier to understand\n",
        "# X_test[(y_pred_class=0) & (y_test=1)]\n"
      ],
      "outputs": [],
      "metadata": {
        "id": "plcy2VRTu9uX"
      }
    },
    {
      "cell_type": "code",
      "execution_count": null,
      "source": [
        "\n",
        "# example false negative\n",
        "X_test[3132]"
      ],
      "outputs": [],
      "metadata": {
        "id": "HSMuGFqmu9lN"
      }
    },
    {
      "cell_type": "code",
      "execution_count": null,
      "source": [
        "# calculate predicted probabilities for X_test_dtm (poorly calibrated)\n",
        "\n",
        "# Numpy Array with 2C\n",
        "# left Column: probability class 0\n",
        "# right C: probability class 1\n",
        "# we only need the right column \n",
        "y_pred_prob = nb.predict_proba(X_test_dtm)[:, 1]\n",
        "y_pred_prob\n",
        "\n",
        "# Naive Bayes predicts very extreme probabilites, you should not take them at face value"
      ],
      "outputs": [],
      "metadata": {
        "id": "HZnx8gswvGXN"
      }
    },
    {
      "cell_type": "code",
      "execution_count": null,
      "source": [
        "# calculate AUC\n",
        "metrics.roc_auc_score(y_test, y_pred_prob)\n",
        "# AUC is useful as a single number summary of classifier performance\n",
        "# Higher value = better classifier\n",
        "# If you randomly chose one positive and one negative observation, AUC represents the likelihood that your classifier will assign a higher predicted probability to the positive observation\n",
        "# AUC is useful even when there is high class imbalance (unlike classification accuracy)\n",
        "# Fraud case\n",
        "# Null accuracy almost 99%\n",
        "# AUC is useful here"
      ],
      "outputs": [],
      "metadata": {
        "id": "500zp9ENvMW-"
      }
    },
    {
      "cell_type": "markdown",
      "source": [
        "NLP"
      ],
      "metadata": {
        "id": "4KYzkjAjBX-i"
      }
    },
    {
      "cell_type": "code",
      "execution_count": null,
      "source": [
        "# temp_corpus = X['summary'].dropna()\n",
        "# corpus = temp_corpus.apply(lambda x: x.split(': ')[-1]).values\n",
        "# # print(f'We have {len(corpus)} elements on the corpus\\n\\n')\n",
        "# # print(f'Example 1: \\n{corpus[1]}\\n')\n",
        "# # print(f'Example 2: \\n{corpus[-1]}')\n",
        "\n",
        "# corpus"
      ],
      "outputs": [],
      "metadata": {
        "id": "AFfinVKRGu-b"
      }
    },
    {
      "cell_type": "code",
      "execution_count": null,
      "source": [],
      "outputs": [],
      "metadata": {
        "id": "D_GPeIPOGvBP"
      }
    },
    {
      "cell_type": "code",
      "execution_count": null,
      "source": [],
      "outputs": [],
      "metadata": {
        "id": "kwjVzuthEZWY"
      }
    },
    {
      "cell_type": "code",
      "execution_count": null,
      "source": [],
      "outputs": [],
      "metadata": {
        "id": "33TUx9dUGvG3"
      }
    },
    {
      "cell_type": "code",
      "execution_count": null,
      "source": [
        "# from sklearn.ensemble import RandomForestClassifier, GradientBoostingClassifier\n",
        "# from sklearn.ensemble import RandomForestRegressor\n",
        "# from scipy.stats import zscore\n",
        "# from sklearn.cluster import DBSCAN\n",
        "# from sklearn.covariance import EllipticEnvelope\n",
        "# from sklearn.ensemble import IsolationForest\n",
        "# from sklearn.neighbors import LocalOutlierFactor\n",
        "# from sklearn.preprocessing import LabelEncoder\n",
        "# from sklearn.svm import OneClassSVM\n",
        "# from sklearn.preprocessing import MinMaxScaler\n",
        "# from sklearn.metrics import accuracy_score,f1_score,confusion_matrix\n",
        "# import matplotlib.pyplot as plt\n",
        "# from matplotlib.pyplot import pie\n",
        "# %matplotlib inline\n",
        "# import time\n",
        "# import pandas_profiling\n",
        "# import warnings\n",
        "# warnings.filterwarnings(\"ignore\")\n",
        "# from sklearn.model_selection import train_test_split\n",
        "# from sklearn.feature_selection import f_classif\n",
        "# from xgboost import XGBClassifier\n",
        "# from hyperopt import hp,Trials,fmin,tpe"
      ],
      "outputs": [],
      "metadata": {
        "id": "u3VEMZAvGvKQ"
      }
    }
  ]
}