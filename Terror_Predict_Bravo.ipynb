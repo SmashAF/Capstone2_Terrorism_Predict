{
 "cells": [
  {
   "cell_type": "markdown",
   "metadata": {},
   "source": [
    "To Do:\n",
    "DO NOT GET HUNG UP ON TWEAKING - GET A WORKING MODEL FIRST\n",
    "work on random forest\n",
    "    count vectorizer/TFIDF ???\n",
    "    TFIDF is better - switch to that only"
   ]
  },
  {
   "cell_type": "code",
   "execution_count": 3,
   "metadata": {},
   "outputs": [
    {
     "name": "stderr",
     "output_type": "stream",
     "text": [
      "[nltk_data] Downloading package stopwords to\n",
      "[nltk_data]     /Users/ssturtz/nltk_data...\n",
      "[nltk_data]   Package stopwords is already up-to-date!\n",
      "[nltk_data] Downloading package punkt to /Users/ssturtz/nltk_data...\n",
      "[nltk_data]   Package punkt is already up-to-date!\n"
     ]
    },
    {
     "ename": "ModuleNotFoundError",
     "evalue": "No module named 'pandas_profiling'",
     "output_type": "error",
     "traceback": [
      "\u001b[0;31m---------------------------------------------------------------------------\u001b[0m",
      "\u001b[0;31mModuleNotFoundError\u001b[0m                       Traceback (most recent call last)",
      "\u001b[0;32m/var/folders/ct/wfk40kn976vfqtgh3ftkc90d08cx6p/T/ipykernel_30780/3416960134.py\u001b[0m in \u001b[0;36m<module>\u001b[0;34m\u001b[0m\n\u001b[1;32m     31\u001b[0m \u001b[0;31m# from xgboost import XGBClassifier\u001b[0m\u001b[0;34m\u001b[0m\u001b[0;34m\u001b[0m\u001b[0m\n\u001b[1;32m     32\u001b[0m \u001b[0;31m# from hyperopt import hp,Trials,fmin,tpe\u001b[0m\u001b[0;34m\u001b[0m\u001b[0;34m\u001b[0m\u001b[0m\n\u001b[0;32m---> 33\u001b[0;31m \u001b[0;32mimport\u001b[0m \u001b[0mpandas_profiling\u001b[0m\u001b[0;34m\u001b[0m\u001b[0;34m\u001b[0m\u001b[0m\n\u001b[0m",
      "\u001b[0;31mModuleNotFoundError\u001b[0m: No module named 'pandas_profiling'"
     ]
    }
   ],
   "source": [
    "import pandas as pd\n",
    "import numpy as np\n",
    "from sklearn.ensemble import RandomForestClassifier, GradientBoostingClassifier\n",
    "from sklearn.ensemble import RandomForestRegressor\n",
    "from scipy.stats import zscore\n",
    "from sklearn.cluster import DBSCAN\n",
    "from sklearn.covariance import EllipticEnvelope\n",
    "from sklearn.ensemble import IsolationForest\n",
    "from sklearn.neighbors import LocalOutlierFactor\n",
    "from sklearn.preprocessing import LabelEncoder\n",
    "from sklearn.svm import OneClassSVM\n",
    "from sklearn.preprocessing import MinMaxScaler\n",
    "from sklearn.metrics import accuracy_score,f1_score,confusion_matrix\n",
    "from sklearn.model_selection import train_test_split\n",
    "from sklearn.feature_selection import f_classif\n",
    "from sklearn.feature_extraction.text import CountVectorizer, TfidfTransformer, TfidfVectorizer\n",
    "import nltk\n",
    "nltk.download('stopwords')\n",
    "from nltk.corpus import stopwords\n",
    "nltk.download('punkt')\n",
    "from nltk.tokenize import word_tokenize\n",
    "from collections import defaultdict, Counter\n",
    "import matplotlib.pyplot as plt\n",
    "from matplotlib.pyplot import pie\n",
    "%matplotlib inline\n",
    "import time\n",
    "\n",
    "import warnings\n",
    "warnings.filterwarnings(\"ignore\")\n",
    "\n",
    "# from xgboost import XGBClassifier\n",
    "# from hyperopt import hp,Trials,fmin,tpe\n",
    "import pandas_profiling\n"
   ]
  },
  {
   "cell_type": "markdown",
   "metadata": {},
   "source": [
    "Import Data and Clean"
   ]
  },
  {
   "cell_type": "code",
   "execution_count": 17,
   "metadata": {},
   "outputs": [],
   "source": [
    "df = pd.read_csv('Data/globalterrorismdb_0718dist.csv', encoding='latin-1', low_memory=False)\n",
    "\n",
    "df['summary']= df['summary'].str.replace('\\d+', '') #remove digits\n",
    "df['summary']= df['summary'].str.replace('[^\\w\\s]', '')#remove punctuation\n",
    "df.fillna('', inplace=True)\n",
    "pd.set_option('display.max_colwidth', None) \n",
    "\n",
    "df.drop(df[df['summary'] == ''].index, inplace = True)"
   ]
  },
  {
   "cell_type": "code",
   "execution_count": 18,
   "metadata": {},
   "outputs": [],
   "source": [
    "counts = df['gname'].value_counts()\n",
    "df = df[df['gname'].isin(counts[counts > 200].index)]"
   ]
  },
  {
   "cell_type": "markdown",
   "metadata": {},
   "source": [
    "New dataframe of text data to compare"
   ]
  },
  {
   "cell_type": "code",
   "execution_count": 19,
   "metadata": {},
   "outputs": [],
   "source": [
    "\n",
    "df =df[['country_txt','weaptype1_txt','attacktype1_txt','targsubtype1_txt','motive','weapdetail','summary', 'gname']]\n",
    "unk = df[df['gname'] == 'Unknown']\n",
    "df.drop(df[df['gname'] == 'Unknown'].index, inplace = True)"
   ]
  },
  {
   "cell_type": "markdown",
   "metadata": {},
   "source": [
    "Create holdback data"
   ]
  },
  {
   "cell_type": "code",
   "execution_count": 20,
   "metadata": {},
   "outputs": [],
   "source": [
    "samp = df.sample(frac = .10)\n",
    "df.drop(samp.index);\n",
    "\n",
    "\n"
   ]
  },
  {
   "cell_type": "markdown",
   "metadata": {},
   "source": [
    "create train/test split"
   ]
  },
  {
   "cell_type": "code",
   "execution_count": 21,
   "metadata": {},
   "outputs": [],
   "source": [
    "y= df['gname']\n",
    "X = df.drop(columns = ['gname'])\n",
    "X_train, X_test, y_train, y_test = train_test_split(X, y, test_size=.30, random_state=42)"
   ]
  },
  {
   "cell_type": "markdown",
   "metadata": {},
   "source": [
    "check for common words in summary"
   ]
  },
  {
   "cell_type": "code",
   "execution_count": 23,
   "metadata": {},
   "outputs": [
    {
     "data": {
      "text/html": [
       "<div>\n",
       "<style scoped>\n",
       "    .dataframe tbody tr th:only-of-type {\n",
       "        vertical-align: middle;\n",
       "    }\n",
       "\n",
       "    .dataframe tbody tr th {\n",
       "        vertical-align: top;\n",
       "    }\n",
       "\n",
       "    .dataframe thead th {\n",
       "        text-align: right;\n",
       "    }\n",
       "</style>\n",
       "<table border=\"1\" class=\"dataframe\">\n",
       "  <thead>\n",
       "    <tr style=\"text-align: right;\">\n",
       "      <th></th>\n",
       "      <th>country_txt</th>\n",
       "      <th>weaptype1_txt</th>\n",
       "      <th>attacktype1_txt</th>\n",
       "      <th>targsubtype1_txt</th>\n",
       "      <th>motive</th>\n",
       "      <th>weapdetail</th>\n",
       "      <th>summary</th>\n",
       "    </tr>\n",
       "  </thead>\n",
       "  <tbody>\n",
       "    <tr>\n",
       "      <th>148011</th>\n",
       "      <td>Sudan</td>\n",
       "      <td>Unknown</td>\n",
       "      <td>Hijacking</td>\n",
       "      <td>Retail/Grocery/Bakery</td>\n",
       "      <td></td>\n",
       "      <td></td>\n",
       "      <td>Assailants attacked a convoy of commercial vehicle between El Fashir and Tawilah North Darfur state Sudan There were no reported casualties in the attack but an unknown number of vehicles and weapons were stolen No group claimed responsibility for the incident however sources attributed the attack to the Janjaweed</td>\n",
       "    </tr>\n",
       "    <tr>\n",
       "      <th>145208</th>\n",
       "      <td>Niger</td>\n",
       "      <td>Explosives</td>\n",
       "      <td>Bombing/Explosion</td>\n",
       "      <td>Military Personnel (soldiers, troops, officers, forces)</td>\n",
       "      <td></td>\n",
       "      <td>A remote-controlled homemade landmine was used in the attack.</td>\n",
       "      <td>An explosive device detonated near military personnel in Diffa town Diffa province Niger Four people including two soldiers and two assailants were killed and one soldier was injured in the blast No group claimed responsibility for the incident however sources attributed the attack to Boko Haram</td>\n",
       "    </tr>\n",
       "    <tr>\n",
       "      <th>148890</th>\n",
       "      <td>Afghanistan</td>\n",
       "      <td>Firearms</td>\n",
       "      <td>Armed Assault</td>\n",
       "      <td>Police Checkpoint</td>\n",
       "      <td></td>\n",
       "      <td></td>\n",
       "      <td>Assailants attacked a police checkpoint in Shepano Kala locality Yosufkhel district Paktika province Afghanistan At least two assailants were killed in the ensuing clash The Taliban claimed responsibility for the attack</td>\n",
       "    </tr>\n",
       "    <tr>\n",
       "      <th>95534</th>\n",
       "      <td>Somalia</td>\n",
       "      <td>Explosives</td>\n",
       "      <td>Bombing/Explosion</td>\n",
       "      <td>Government Personnel (excluding police, military)</td>\n",
       "      <td>The specific motive for the attack is unknown.</td>\n",
       "      <td>A remote controlled landmine was used in the attack.</td>\n",
       "      <td>On Friday in Mogadishu Banaadir Somalia a remotecontrolled landmine exploded near a vehicle carrying a Somali government delegation while on a security mission at Manabolyo intersection Four Somali soldiers were killed and five others were seriously injured No damage was reported and no group claimed responsibility but it was suspected that alShabaab fighters were responsible</td>\n",
       "    </tr>\n",
       "    <tr>\n",
       "      <th>100084</th>\n",
       "      <td>Pakistan</td>\n",
       "      <td>Unknown</td>\n",
       "      <td>Unknown</td>\n",
       "      <td>Unnamed Civilian/Unspecified</td>\n",
       "      <td>The specific motive for the attack is unknown.</td>\n",
       "      <td>Unknown weapons were used in the attack.</td>\n",
       "      <td>On Sunday afternoon in Kurram Federally Administered Tribal Areas Pakistan suspected TehrikeTalibanPakistan TTP militants attacked the Turi Bangash village of Blashkel causing a clash between them and the Turi Bangash tribe after a truce between Turi Bangash Tribes and TTP leaving six tribesmen and two Taliban militants injured Other reports claimed  TTP militants were killed by that could no be confirmed The proTaliban militants are against the Turi Bangash tribes because they did not allow Talibinazation in the Upper and Lower Khurram No damages were reported and no group claimed responsibility</td>\n",
       "    </tr>\n",
       "    <tr>\n",
       "      <th>...</th>\n",
       "      <td>...</td>\n",
       "      <td>...</td>\n",
       "      <td>...</td>\n",
       "      <td>...</td>\n",
       "      <td>...</td>\n",
       "      <td>...</td>\n",
       "      <td>...</td>\n",
       "    </tr>\n",
       "    <tr>\n",
       "      <th>91970</th>\n",
       "      <td>Colombia</td>\n",
       "      <td>Explosives</td>\n",
       "      <td>Bombing/Explosion</td>\n",
       "      <td>Multinational Corporation</td>\n",
       "      <td>The specific motive for the attack is unknown.</td>\n",
       "      <td>An improvised explosive device was used in the attack.</td>\n",
       "      <td>On Monday night at about  in Neiva Huila Colombia two assailants launched an improvised explosive device at an industrial zone hitting  a dairy products company Alpina injuring two people and damaging the business According to police commander Flavio Mesa the same company was attacked last August because they failed to pay extortion money to the Revolutionary Armed Forces of Colombia FARC No group claimed responsibility although the police suspected the FARC was responsible</td>\n",
       "    </tr>\n",
       "    <tr>\n",
       "      <th>108485</th>\n",
       "      <td>Somalia</td>\n",
       "      <td>Firearms</td>\n",
       "      <td>Assassination</td>\n",
       "      <td>Radio Journalist/Staff/Facility</td>\n",
       "      <td></td>\n",
       "      <td>Pistols were used in the attack.</td>\n",
       "      <td>Two assailants opened fire on Mohamed Nur Mohamed in Xamar Jajab district Mogadishu city Banaadir region Somalia Mohamed Nur Mohamed a journalist with BarKulan radio station was seriously injured in the attack No group claimed responsibility for the incident however officials attributed it to AlShabaab</td>\n",
       "    </tr>\n",
       "    <tr>\n",
       "      <th>176140</th>\n",
       "      <td>Iraq</td>\n",
       "      <td>Firearms</td>\n",
       "      <td>Armed Assault</td>\n",
       "      <td>Military Barracks/Base/Headquarters/Checkpost</td>\n",
       "      <td></td>\n",
       "      <td></td>\n",
       "      <td>Assailants attacked Peshmerga outposts in Zarkah Saladin Iraq In addition to an unknown number of assailant casualties at least one Peshmerga soldier was killed and two soldiers were injured in the ensuing clash The Islamic State of Iraq and the Levant ISIL claimed responsibility for the incident</td>\n",
       "    </tr>\n",
       "    <tr>\n",
       "      <th>71128</th>\n",
       "      <td>Tanzania</td>\n",
       "      <td>Firearms</td>\n",
       "      <td>Hostage Taking (Kidnapping)</td>\n",
       "      <td>Politician or Political Party Movement/Meeting/Rally</td>\n",
       "      <td>Specific motive is unknown, but Mrema is an anti-corruption candidate and was the strongest opponent in the previous presidential election</td>\n",
       "      <td></td>\n",
       "      <td>Augustine Mrema the oppositional presidential candidate for Tanzania narrowly escaped an ambush in the southwestern region of Rukwa Tanzania  Mrema had received a warning about a plot to abduct him four days prior to the incident but was without a police escort at the time of the attack  The attack was perpetrated by four gunmen who stepped out into the road in front of Mremas vehicle entourage and ordered them to stop  When the driver failed to comply the gunmen opened fire on the vehicles  There were no reports of injuries  No group has claimed responsibility for the attack</td>\n",
       "    </tr>\n",
       "    <tr>\n",
       "      <th>124274</th>\n",
       "      <td>Iraq</td>\n",
       "      <td>Explosives</td>\n",
       "      <td>Hostage Taking (Barricade Incident)</td>\n",
       "      <td>Retail/Grocery/Bakery</td>\n",
       "      <td></td>\n",
       "      <td>A car bomb, explosive vests, and unknown firearms were used in the attack.</td>\n",
       "      <td>Several suicide bombers and gunmen stormed the Jawahir mall in Kirkuk city Kirkuk Iraq The assailants took shoppers and store owners hostage until security forces regained control on December   At least three assailants were killed in the incident This was one of two coordinated attacks in the city on the same day The assailants used their position atop the mall to fire at security forces targeted in the earlier suicide bombing Islamic State of Iraq and the Levant ISIL claimed responsibility for the attacks</td>\n",
       "    </tr>\n",
       "  </tbody>\n",
       "</table>\n",
       "<p>28480 rows × 7 columns</p>\n",
       "</div>"
      ],
      "text/plain": [
       "        country_txt weaptype1_txt                      attacktype1_txt  \\\n",
       "148011        Sudan       Unknown                            Hijacking   \n",
       "145208        Niger    Explosives                    Bombing/Explosion   \n",
       "148890  Afghanistan      Firearms                        Armed Assault   \n",
       "95534       Somalia    Explosives                    Bombing/Explosion   \n",
       "100084     Pakistan       Unknown                              Unknown   \n",
       "...             ...           ...                                  ...   \n",
       "91970      Colombia    Explosives                    Bombing/Explosion   \n",
       "108485      Somalia      Firearms                        Assassination   \n",
       "176140         Iraq      Firearms                        Armed Assault   \n",
       "71128      Tanzania      Firearms          Hostage Taking (Kidnapping)   \n",
       "124274         Iraq    Explosives  Hostage Taking (Barricade Incident)   \n",
       "\n",
       "                                               targsubtype1_txt  \\\n",
       "148011                                    Retail/Grocery/Bakery   \n",
       "145208  Military Personnel (soldiers, troops, officers, forces)   \n",
       "148890                                        Police Checkpoint   \n",
       "95534         Government Personnel (excluding police, military)   \n",
       "100084                             Unnamed Civilian/Unspecified   \n",
       "...                                                         ...   \n",
       "91970                                 Multinational Corporation   \n",
       "108485                          Radio Journalist/Staff/Facility   \n",
       "176140            Military Barracks/Base/Headquarters/Checkpost   \n",
       "71128      Politician or Political Party Movement/Meeting/Rally   \n",
       "124274                                    Retail/Grocery/Bakery   \n",
       "\n",
       "                                                                                                                                            motive  \\\n",
       "148011                                                                                                                                               \n",
       "145208                                                                                                                                               \n",
       "148890                                                                                                                                               \n",
       "95534                                                                                               The specific motive for the attack is unknown.   \n",
       "100084                                                                                              The specific motive for the attack is unknown.   \n",
       "...                                                                                                                                            ...   \n",
       "91970                                                                                               The specific motive for the attack is unknown.   \n",
       "108485                                                                                                                                               \n",
       "176140                                                                                                                                               \n",
       "71128   Specific motive is unknown, but Mrema is an anti-corruption candidate and was the strongest opponent in the previous presidential election   \n",
       "124274                                                                                                                                               \n",
       "\n",
       "                                                                        weapdetail  \\\n",
       "148011                                                                               \n",
       "145208               A remote-controlled homemade landmine was used in the attack.   \n",
       "148890                                                                               \n",
       "95534                         A remote controlled landmine was used in the attack.   \n",
       "100084                                    Unknown weapons were used in the attack.   \n",
       "...                                                                            ...   \n",
       "91970                       An improvised explosive device was used in the attack.   \n",
       "108485                                            Pistols were used in the attack.   \n",
       "176140                                                                               \n",
       "71128                                                                                \n",
       "124274  A car bomb, explosive vests, and unknown firearms were used in the attack.   \n",
       "\n",
       "                                                                                                                                                                                                                                                                                                                                                                                                                                                                                                                                                                                                                             summary  \n",
       "148011                                                                                                                                                                                                                                                                                                   Assailants attacked a convoy of commercial vehicle between El Fashir and Tawilah North Darfur state Sudan There were no reported casualties in the attack but an unknown number of vehicles and weapons were stolen No group claimed responsibility for the incident however sources attributed the attack to the Janjaweed  \n",
       "145208                                                                                                                                                                                                                                                                                                                      An explosive device detonated near military personnel in Diffa town Diffa province Niger Four people including two soldiers and two assailants were killed and one soldier was injured in the blast No group claimed responsibility for the incident however sources attributed the attack to Boko Haram  \n",
       "148890                                                                                                                                                                                                                                                                                                                                                                                                   Assailants attacked a police checkpoint in Shepano Kala locality Yosufkhel district Paktika province Afghanistan At least two assailants were killed in the ensuing clash The Taliban claimed responsibility for the attack  \n",
       "95534                                                                                                                                                                                                                                     On Friday in Mogadishu Banaadir Somalia a remotecontrolled landmine exploded near a vehicle carrying a Somali government delegation while on a security mission at Manabolyo intersection Four Somali soldiers were killed and five others were seriously injured No damage was reported and no group claimed responsibility but it was suspected that alShabaab fighters were responsible  \n",
       "100084   On Sunday afternoon in Kurram Federally Administered Tribal Areas Pakistan suspected TehrikeTalibanPakistan TTP militants attacked the Turi Bangash village of Blashkel causing a clash between them and the Turi Bangash tribe after a truce between Turi Bangash Tribes and TTP leaving six tribesmen and two Taliban militants injured Other reports claimed  TTP militants were killed by that could no be confirmed The proTaliban militants are against the Turi Bangash tribes because they did not allow Talibinazation in the Upper and Lower Khurram No damages were reported and no group claimed responsibility  \n",
       "...                                                                                                                                                                                                                                                                                                                                                                                                                                                                                                                                                                                                                              ...  \n",
       "91970                                                                                                                                 On Monday night at about  in Neiva Huila Colombia two assailants launched an improvised explosive device at an industrial zone hitting  a dairy products company Alpina injuring two people and damaging the business According to police commander Flavio Mesa the same company was attacked last August because they failed to pay extortion money to the Revolutionary Armed Forces of Colombia FARC No group claimed responsibility although the police suspected the FARC was responsible  \n",
       "108485                                                                                                                                                                                                                                                                                                               Two assailants opened fire on Mohamed Nur Mohamed in Xamar Jajab district Mogadishu city Banaadir region Somalia Mohamed Nur Mohamed a journalist with BarKulan radio station was seriously injured in the attack No group claimed responsibility for the incident however officials attributed it to AlShabaab  \n",
       "176140                                                                                                                                                                                                                                                                                                                     Assailants attacked Peshmerga outposts in Zarkah Saladin Iraq In addition to an unknown number of assailant casualties at least one Peshmerga soldier was killed and two soldiers were injured in the ensuing clash The Islamic State of Iraq and the Levant ISIL claimed responsibility for the incident  \n",
       "71128                         Augustine Mrema the oppositional presidential candidate for Tanzania narrowly escaped an ambush in the southwestern region of Rukwa Tanzania  Mrema had received a warning about a plot to abduct him four days prior to the incident but was without a police escort at the time of the attack  The attack was perpetrated by four gunmen who stepped out into the road in front of Mremas vehicle entourage and ordered them to stop  When the driver failed to comply the gunmen opened fire on the vehicles  There were no reports of injuries  No group has claimed responsibility for the attack  \n",
       "124274                                                                                              Several suicide bombers and gunmen stormed the Jawahir mall in Kirkuk city Kirkuk Iraq The assailants took shoppers and store owners hostage until security forces regained control on December   At least three assailants were killed in the incident This was one of two coordinated attacks in the city on the same day The assailants used their position atop the mall to fire at security forces targeted in the earlier suicide bombing Islamic State of Iraq and the Levant ISIL claimed responsibility for the attacks  \n",
       "\n",
       "[28480 rows x 7 columns]"
      ]
     },
     "execution_count": 23,
     "metadata": {},
     "output_type": "execute_result"
    }
   ],
   "source": [
    "\n",
    "X_train\n",
    "\n"
   ]
  },
  {
   "cell_type": "markdown",
   "metadata": {},
   "source": [
    "Random Forest"
   ]
  },
  {
   "cell_type": "code",
   "execution_count": 27,
   "metadata": {},
   "outputs": [
    {
     "data": {
      "text/plain": [
       "array([[0., 1., 0., 0., 0., 0., 0.],\n",
       "       [0., 0., 0., 0., 0., 0., 1.],\n",
       "       [1., 0., 0., 0., 0., 0., 0.],\n",
       "       [0., 0., 0., 0., 1., 0., 0.],\n",
       "       [0., 0., 1., 0., 0., 0., 0.],\n",
       "       [0., 0., 0., 0., 0., 1., 0.],\n",
       "       [0., 0., 0., 1., 0., 0., 0.]])"
      ]
     },
     "execution_count": 27,
     "metadata": {},
     "output_type": "execute_result"
    }
   ],
   "source": [
    "#vectorize summary data\n",
    "new_stopwords=['unknown']\n",
    "stpwrd = stopwords.words('english')\n",
    "stpwrd.extend(new_stopwords)\n",
    "\n",
    "vectorizer = CountVectorizer(lowercase=True, stop_words='english', max_features = 1000)\n",
    "tfidf = TfidfVectorizer(sublinear_tf=True, norm='l2', encoding='latin-1', ngram_range=(1, 2), stop_words=stpwrd )\n",
    "\n",
    "\n",
    "RFX_train = vectorizer.fit(X_train)\n",
    "RFX_test = vectorizer.fit(X_test)\n",
    "\n",
    "\n",
    "\n",
    "\n",
    "\n",
    "\n",
    "\n",
    "# RFX_train = vectorizer.transform(rfd)\n",
    "# RFX_test = vectorizer.transform(pred_rfd)\n",
    "# RFX_blind = vectorizer.transform(blind)\n",
    "# X2_train= vectorizer.transform(X2_train)\n",
    "# X2_test = vectorizer.transform(X2_test)\n",
    "\n",
    "# features = tfidf.fit_transform(X_train).toarray()\n",
    "# labels = y_train\n",
    "# features"
   ]
  },
  {
   "cell_type": "code",
   "execution_count": null,
   "metadata": {},
   "outputs": [],
   "source": []
  },
  {
   "cell_type": "code",
   "execution_count": null,
   "metadata": {},
   "outputs": [],
   "source": [
    "# # columns that can be removed: \n",
    "# out_columns =  ['extended', 'weapsubtype1', 'weaptype1', 'claimed',   'nperpcap', 'nwoundus', 'propvalue', 'propcomment', 'addnotes', 'INT_LOG', 'INT_IDEO', 'INT_MISC', 'INT_ANY', 'related',  'property',  'propextent','nperps', 'natlty1', 'targsubtype1','motive','dbsource','approxdate' , 'extended' , 'resolution' , 'vicinity' , 'location' , 'alternative', 'alternative_txt', 'multiple', 'attacktype2', 'attacktype2_txt' , 'attacktype3' ,'attacktype3_txt' ,'targtype2' ,\t'targtype2_txt' , \t'targsubtype2'\t, 'targsubtype2_txt' ,\t'corp2' , \t 'target2',\t'natlty2',\t'natlty2_txt','targtype3',\t'targtype3_txt',\t'targsubtype3',\t'targsubtype3_txt',\t'corp3',\t'target3',\t'natlty3',\t'natlty3_txt',\t'gsubname',\t'gname2',\t'gsubname2',\t'gname3',\t'gsubname3',\t'guncertain2',\t'guncertain3', 'claimmode',\t'claimmode_txt',\t'claim2',\t'claimmode2',\t'claimmode2_txt','claim3',\t'claimmode3',\t'claimmode3_txt',\t'compclaim', 'weaptype2',\t'weaptype2_txt',\t'weapsubtype2',\t'weapsubtype2_txt',\t'weaptype3', 'weapsubtype3',\t'weapsubtype3_txt', 'weaptype4','weaptype4_txt',\t'weapsubtype4',\t'weapsubtype4_txt', 'nkillus',\t'nkillter',\t'nwound',\t'nwoundte', 'ishostkid',\t'nhostkid',\t'nhostkidus',\t'nhours',\t'ndays',\t'divert', 'kidhijcountry',\t'ransom',\t'ransomamt',\t'ransomamtus',\t'ransompaid',\t'ransompaidus',\t'ransomnote',\t'hostkidoutcome',\t'hostkidoutcome_txt', 'nreleased', 'weaptype3_txt' ]\n",
    "\n",
    "# tdata = tdata.drop(columns = out_columns) \n",
    "# tdata.fillna('', inplace=True)"
   ]
  }
 ],
 "metadata": {
  "interpreter": {
   "hash": "aee8b7b246df8f9039afb4144a1f6fd8d2ca17a180786b69acc140d282b71a49"
  },
  "kernelspec": {
   "display_name": "Python 3.9.7 64-bit",
   "language": "python",
   "name": "python3"
  },
  "language_info": {
   "codemirror_mode": {
    "name": "ipython",
    "version": 3
   },
   "file_extension": ".py",
   "mimetype": "text/x-python",
   "name": "python",
   "nbconvert_exporter": "python",
   "pygments_lexer": "ipython3",
   "version": "3.9.9"
  },
  "orig_nbformat": 4
 },
 "nbformat": 4,
 "nbformat_minor": 2
}
